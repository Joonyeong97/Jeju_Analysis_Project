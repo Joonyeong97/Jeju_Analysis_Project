{
  "nbformat": 4,
  "nbformat_minor": 0,
  "metadata": {
    "colab": {
      "name": "model_검증.ipynb",
      "provenance": [],
      "collapsed_sections": []
    },
    "kernelspec": {
      "name": "python3",
      "display_name": "Python 3"
    }
  },
  "cells": [
    {
      "cell_type": "code",
      "metadata": {
        "id": "Z-5ZITZAw9vF",
        "colab_type": "code",
        "outputId": "7e648f90-144f-49d8-ec38-7831095e9dbc",
        "colab": {
          "base_uri": "https://localhost:8080/",
          "height": 688
        }
      },
      "source": [
        "from keras import layers, models\n",
        "from __future__ import print_function\n",
        "from keras.callbacks import EarlyStopping, ModelCheckpoint\n",
        "from keras.models import Model\n",
        "from keras.layers import Input, LSTM, Dense, Bidirectional\n",
        "import numpy as np\n",
        "from keras import datasets\n",
        "from keras import backend as K\n",
        "from keras.utils import plot_model\n",
        "import matplotlib\n",
        "from matplotlib import ticker\n",
        "import matplotlib.pyplot as plt\n",
        "from keras.models import load_model\n",
        "\n",
        "\n",
        "batch_size = 32  # Batch size for training.\n",
        "epochs = 100  # Number of epochs to train for.\n",
        "latent_dim = 256  # Latent dimensionality of the encoding space.\n",
        "num_samples = 10000  # Number of samples to train on.\n",
        "# Path to the data txt file on disk.\n",
        "data_path = '/content/dataset.txt'\n",
        "\n",
        "# Vectorize the data.\n",
        "input_texts = []\n",
        "target_texts = []\n",
        "input_characters = set()\n",
        "target_characters = set()\n",
        "\n",
        "with open(data_path, 'r', encoding='utf-8') as f:\n",
        "    lines = f.read().split('\\n')\n",
        "\n",
        "for line in lines[: min(num_samples, len(lines) - 1)]:\n",
        "    input_text, target_text = line.split('\\t')\n",
        "    # We use \"tab\" as the \"start sequence\" character\n",
        "    # for the targets, and \"\\n\" as \"end sequence\" character.\n",
        "    target_text = '\\t' + target_text + '\\n'\n",
        "    input_texts.append(input_text)\n",
        "    target_texts.append(target_text)\n",
        "    for char in input_text:\n",
        "        if char not in input_characters:\n",
        "            input_characters.add(char)\n",
        "    for char in target_text:\n",
        "        if char not in target_characters:\n",
        "            target_characters.add(char)\n",
        "# 전처리\n",
        "input_characters = sorted(list(input_characters))\n",
        "target_characters = sorted(list(target_characters))\n",
        "num_encoder_tokens = len(input_characters)\n",
        "num_decoder_tokens = len(target_characters)\n",
        "max_encoder_seq_length = max([len(txt) for txt in input_texts])\n",
        "max_decoder_seq_length = max([len(txt) for txt in target_texts])\n",
        "\n",
        "print('Number of samples:', len(input_texts))\n",
        "print('Number of unique input tokens:', num_encoder_tokens)\n",
        "print('Number of unique output tokens:', num_decoder_tokens)\n",
        "print('Max sequence length for inputs:', max_encoder_seq_length)\n",
        "print('Max sequence length for outputs:', max_decoder_seq_length)\n",
        "\n",
        "\n",
        "# 문자 -> 숫자 변환용 사전\n",
        "input_token_index = dict(\n",
        "    [(char, i) for i, char in enumerate(input_characters)])\n",
        "target_token_index = dict(\n",
        "    [(char, i) for i, char in enumerate(target_characters)])\n",
        "\n",
        "# 학습에 사용할 데이터를 담을 3차원 배열\n",
        "encoder_input_data = np.zeros(\n",
        "    (len(input_texts), max_encoder_seq_length, num_encoder_tokens),\n",
        "    dtype='float32')\n",
        "decoder_input_data = np.zeros(\n",
        "    (len(input_texts), max_decoder_seq_length, num_decoder_tokens),\n",
        "    dtype='float32')\n",
        "decoder_target_data = np.zeros(\n",
        "    (len(input_texts), max_decoder_seq_length, num_decoder_tokens),\n",
        "    dtype='float32')\n",
        "\n",
        "# 문장을 문자 단위로 원 핫 인코딩하면서 학습용 데이터를 만듬\n",
        "for i, (input_text, target_text) in enumerate(zip(input_texts, target_texts)):\n",
        "    for t, char in enumerate(input_text):\n",
        "        encoder_input_data[i, t, input_token_index[char]] = 1.\n",
        "    for t, char in enumerate(target_text):\n",
        "        decoder_input_data[i, t, target_token_index[char]] = 1.\n",
        "        if t > 0:\n",
        "            decoder_target_data[i, t - 1, target_token_index[char]] = 1.\n",
        "\n",
        "# 숫자 -> 문자 변환용 사전\n",
        "reverse_input_char_index = dict(\n",
        "    (i, char) for char, i in input_token_index.items())\n",
        "reverse_target_char_index = dict(\n",
        "    (i, char) for char, i in target_token_index.items())\n",
        "\n",
        "\n",
        "# 인코더 생성\n",
        "encoder_inputs = layers.Input(shape=(max_encoder_seq_length, num_encoder_tokens))\n",
        "# dropout 전\n",
        "# encoder = layers.GRU(latent_dim, return_sequences=True, return_state=True)\n",
        "\n",
        "encoder = layers.GRU(latent_dim,dropout=0.25,recurrent_dropout=0.25, return_sequences=True, return_state=True)\n",
        "encoder_outputs, state_h = encoder(encoder_inputs)\n",
        "\n",
        "\n",
        "# 디코더 생성\n",
        "decoder_inputs = layers.Input(shape=(max_decoder_seq_length, num_decoder_tokens))\n",
        "# dropout 전\n",
        "# decoder = layers.GRU(latent_dim, return_sequences=True, return_state=True)\n",
        "decoder = layers.GRU(latent_dim,dropout=0.25,recurrent_dropout=0.25, return_sequences=True, return_state=True)\n",
        "decoder_outputs, _ = decoder(decoder_inputs, initial_state=state_h)\n",
        "\n",
        "# attention 생성\n",
        "'''\n",
        "어텐션의 기본 아이디어는 디코더에서 출력 단어를 예측하는 매 시점(time step)마다, \n",
        "인코더에서의 전체 입력 문장을 다시 한 번 참고한다는 점입니다. \n",
        "단, 전체 입력 문장을 전부 다 동일한 비율로 참고하는 것이 아니라, \n",
        "해당 시점에서 예측해야할 단어와 연관이 있는 입력 단어 부분을 좀 더 \n",
        "집중(attention)해서 보게 됩니다.\n",
        "'''\n",
        "def RepeatVectorLayer(rep, axis):\n",
        "  return layers.Lambda(lambda x: K.repeat_elements(K.expand_dims(x, axis), rep, axis),\n",
        "                      lambda x: tuple((x[0],) + x[1:axis] + (rep,) + x[axis:]))\n",
        "# repeat_elements 함수는 1차원에 벡터에 b=[01] 이 있다고 가정하면\n",
        "# repeat_elements(b, rep=2, axis=0) 이렇게 적으면 행으로 \n",
        "# 0 0\n",
        "# 1 1\n",
        "# 이런식으로 증가\n",
        "\n",
        "\n",
        "# \n",
        "# K.expand_dims 은\n",
        "# K.expand_dims(n,0) 이렇게적으면 2*2 행렬이 1*2*2 행렬로\n",
        "# K.expand_dims(n,1) 이렇게적으면 2*2 행렬이 2*1*2 행렬로 차원을 증가시켜줌\n",
        "# 기존엔 reshape 으로 하던걸 텐서에서는 K.expand_dims를 사용\n",
        "#\n",
        "\n",
        "repeat_d_layer = RepeatVectorLayer(max_encoder_seq_length, 2)\n",
        "# 입력을 n 번 반복합니다.\n",
        "repeat_d = repeat_d_layer(decoder_outputs)\n",
        "\n",
        "repeat_e_layer = RepeatVectorLayer(max_decoder_seq_length, 1)\n",
        "# 입력을 n 번 반복합니다.\n",
        "repeat_e = repeat_e_layer(encoder_outputs)\n",
        "\n",
        "concat_for_score_layer = layers.Concatenate(axis=-1)\n",
        "#layers.Concatenate는 입력 목록을 연결하는 계층입니다.\n",
        "# 연결 축을 제외하고 모두 동일한 모양의 텐서 목록을 입력으로 사용하고 \n",
        "# 모든 입력의 연결 인 단일 텐서를 반환합니다.\n",
        "concat_for_score = concat_for_score_layer([repeat_d, repeat_e])\n",
        "\n",
        "dense1_t_score_layer = layers.Dense(latent_dim // 2, activation='tanh')\n",
        "# Dense 클래스 객체를 TimeDistributed wrapper를 사용하여 3차원 텐서 입력을 받을 수 있게 확장\n",
        "dense1_score_layer = layers.TimeDistributed(dense1_t_score_layer)\n",
        "dense1_score = dense1_score_layer(concat_for_score)\n",
        "\n",
        "\n",
        "dense2_t_score_layer = layers.Dense(1)\n",
        "# Dense 클래스 객체를 TimeDistributed wrapper를 사용하여 3차원 텐서 입력을 받을 수 있게 확장\n",
        "dense2_score_layer = layers.TimeDistributed(dense2_t_score_layer)\n",
        "dense2_score = dense2_score_layer(dense1_score)\n",
        "dense2_score = layers.Reshape((max_decoder_seq_length, max_encoder_seq_length))(dense2_score)\n",
        "\n",
        "# soft max 설정\n",
        "softmax_score_layer = layers.Softmax(axis=-1)\n",
        "softmax_score = softmax_score_layer(dense2_score)\n",
        "\n",
        "# 입력을 n 번 반복합니다 RepeatVectorLayer\n",
        "repeat_score_layer = RepeatVectorLayer(latent_dim, 2)\n",
        "repeat_score = repeat_score_layer(softmax_score)\n",
        "\n",
        "# layers.Permute 주어진 패턴에 따라 입력 치수를 변경합니다.\n",
        "permute_e = layers.Permute((2, 1))(encoder_outputs)\n",
        "repeat_e_layer = RepeatVectorLayer(max_decoder_seq_length, 1)\n",
        "repeat_e = repeat_e_layer(permute_e)\n",
        "\n",
        "attended_mat_layer = layers.Multiply() # 행렬곱\n",
        "attended_mat = attended_mat_layer([repeat_score, repeat_e])\n",
        "\n",
        "context_layer = layers.Lambda(lambda x: K.sum(x, axis=-1),\n",
        "                             lambda x: tuple(x[:-1]))\n",
        "context = context_layer(attended_mat)\n",
        "\n",
        "concat_context_layer = layers.Concatenate(axis=-1)\n",
        "'''입력 목록을 연결하는 계층입니다.\n",
        "연결 축을 제외하고 모두 동일한 모양의 텐서 목록을 입력으로 \n",
        "사용하고 모든 입력의 연결 인 단일 텐서를 반환합니다.'''\n",
        "concat_context = concat_context_layer([context, decoder_outputs])\n",
        "\n",
        "attention_dense_output_layer = layers.Dense(latent_dim, activation='tanh')\n",
        "attention_output_layer = layers.TimeDistributed(attention_dense_output_layer)\n",
        "attention_output = attention_output_layer(concat_context)\n",
        "\n",
        "decoder_dense = layers.Dense(num_decoder_tokens, activation='softmax')\n",
        "decoder_outputs = decoder_dense(attention_output)\n",
        "model = models.Model([encoder_inputs, decoder_inputs], decoder_outputs)\n",
        "\n",
        "# # 모델 생성\n",
        "\n",
        "# che = 'atten_GRU_weight_g.h5'\n",
        "# point = ModelCheckpoint(filepath=che , monitor='val_loss', verbose=1, save_best_only=True)\n",
        "# early_stopping = EarlyStopping(monitor='val_loss', patience=100)\n",
        "# # Run training\n",
        "\n",
        "# model.fit([encoder_input_data, decoder_input_data], decoder_target_data,\n",
        "#                     batch_size=batch_size,\n",
        "#                     epochs=epochs,\n",
        "#                     validation_split=0.2,\n",
        "#                     verbose=1,callbacks=[point,early_stopping])\n",
        "# # Save model\n",
        "# model.save('atten_GRU_weight.h5')\n",
        "\n",
        "\n",
        "# # \n",
        "# from keras.models import model_from_json\n",
        "# json_file = open(\"model.json\", \"r\")\n",
        "# loaded_model_json = json_file.read()\n",
        "# json_file.close()\n",
        "# loaded_model = model_from_json(loaded_model_json)\n",
        "\n",
        "model.load_weights(\"wh.h5\")\n",
        "print(\"Loaded model from disk\")\n",
        "\n",
        "model.compile(optimizer='rmsprop', loss='categorical_crossentropy',\n",
        "              metrics=['accuracy'])\n",
        "\n",
        "\n",
        "#model = load_model('/content/atten_GRU_weight_drop0.25.h5')\n",
        "\n",
        "# Next: inference mode (sampling).\n",
        "# Here's the drill:\n",
        "# 1) encode input and retrieve initial decoder state\n",
        "# 2) run one step of decoder with this initial state\n",
        "# and a \"start of sequence\" token as target.\n",
        "# Output will be the next target token\n",
        "# 3) Repeat with the current target token and current states\n",
        "\n",
        "# # 어텐션 검증\n",
        "# test_data_num = 0\n",
        "# test_max_len = 0\n",
        "# for i, s in enumerate(input_texts):\n",
        "#   if len(s) > test_max_len:\n",
        "#     test_max_len = len(s)\n",
        "#     test_data_num = i\n",
        "\n",
        "# test_enc_input = encoder_input_data[test_data_num].reshape(\n",
        "#     (1, max_encoder_seq_length, num_encoder_tokens))\n",
        "# test_dec_input = decoder_input_data[test_data_num].reshape(\n",
        "#     (1, max_decoder_seq_length, num_decoder_tokens))\n",
        "\n",
        "# attention_layer = softmax_score_layer\n",
        "# func = K.function([encoder_inputs, decoder_inputs] + [K.learning_phase()], [attention_layer.output])\n",
        "# score_values = func([test_enc_input, test_dec_input, 1.0])[0]\n",
        "# score_values = score_values.reshape((max_decoder_seq_length, max_encoder_seq_length))\n",
        "\n",
        "# score_values = score_values[:len(target_texts[test_data_num])-1, :len(input_texts[test_data_num])]\n",
        "\n",
        "# fig = plt.figure()\n",
        "# ax = fig.add_subplot(111)\n",
        "# cax = ax.matshow(score_values, interpolation='nearest')\n",
        "# fig.colorbar(cax)\n",
        "\n",
        "# test_enc_names = []\n",
        "# for vec in test_enc_input[0]:\n",
        "#   sampled_token_index = np.argmax(vec)\n",
        "#   sampled_char = reverse_input_char_index[sampled_token_index]\n",
        "#   test_enc_names.append(sampled_char)\n",
        "# test_dec_names = []\n",
        "# for vec in test_dec_input[0]:\n",
        "#   sampled_token_index = np.argmax(vec)\n",
        "#   sampled_char = reverse_target_char_index[sampled_token_index]\n",
        "#   test_dec_names.append(sampled_char)\n",
        "\n",
        "# print(test_dec_names[1:len(target_texts[test_data_num])])\n",
        "\n",
        "# ax.xaxis.set_major_locator(ticker.MultipleLocator(1))\n",
        "# ax.yaxis.set_major_locator(ticker.MultipleLocator(1))\n",
        "# ax.set_yticklabels(['']+test_dec_names[1:-1] + ['<END>'])\n",
        "# ax.set_xticklabels(['']+test_enc_names)\n",
        "\n",
        "# plt.show()\n",
        "\n",
        "\n",
        "# 모델추론단계\n",
        "encoder_model = models.Model(encoder_inputs, [encoder_outputs, state_h])\n",
        "encoder_outputs_input = layers.Input(shape=(max_encoder_seq_length, latent_dim))\n",
        "\n",
        "decoder_inputs = layers.Input(shape=(1, num_decoder_tokens))\n",
        "decoder_state_input_h = layers.Input(shape=(latent_dim,))\n",
        "decoder_outputs, decoder_h = decoder(decoder_inputs, initial_state=decoder_state_input_h)\n",
        "\n",
        "repeat_d_layer = RepeatVectorLayer(max_encoder_seq_length, 2)\n",
        "repeat_d = repeat_d_layer(decoder_outputs)\n",
        "\n",
        "repeat_e_layer = RepeatVectorLayer(1, axis=1)\n",
        "repeat_e = repeat_e_layer(encoder_outputs_input)\n",
        "\n",
        "concat_for_score_layer = layers.Concatenate(axis=-1)\n",
        "concat_for_score = concat_for_score_layer([repeat_d, repeat_e])\n",
        "\n",
        "dense1_score_layer = layers.TimeDistributed(dense1_t_score_layer)\n",
        "dense1_score = dense1_score_layer(concat_for_score)\n",
        "\n",
        "dense2_score_layer = layers.TimeDistributed(dense2_t_score_layer)\n",
        "dense2_score = dense2_score_layer(dense1_score)\n",
        "dense2_score = layers.Reshape((1, max_encoder_seq_length))(dense2_score)\n",
        "\n",
        "softmax_score_layer = layers.Softmax(axis=-1)\n",
        "softmax_score = softmax_score_layer(dense2_score)\n",
        "\n",
        "repeat_score_layer = RepeatVectorLayer(latent_dim, 2)\n",
        "repeat_score = repeat_score_layer(softmax_score)\n",
        "\n",
        "permute_e = layers.Permute((2, 1))(encoder_outputs_input)\n",
        "repeat_e_layer = RepeatVectorLayer(1, axis=1)\n",
        "repeat_e = repeat_e_layer(permute_e)\n",
        "\n",
        "attended_mat_layer = layers.Multiply()\n",
        "attended_mat = attended_mat_layer([repeat_score, repeat_e])\n",
        "\n",
        "context_layer = layers.Lambda(lambda x: K.sum(x, axis=-1),\n",
        "                             lambda x: tuple(x[:-1]))\n",
        "context = context_layer(attended_mat)\n",
        "\n",
        "concat_context_layer = layers.Concatenate(axis=-1)\n",
        "concat_context = concat_context_layer([context, decoder_outputs])\n",
        "\n",
        "attention_output_layer = layers.TimeDistributed(attention_dense_output_layer)\n",
        "attention_output = attention_output_layer(concat_context)\n",
        "\n",
        "decoder_att_outputs = decoder_dense(attention_output)\n",
        "\n",
        "decoder_model = models.Model([decoder_inputs, decoder_state_input_h, encoder_outputs_input],\n",
        "                            [decoder_outputs, decoder_h, decoder_att_outputs])\n",
        "\n",
        "def decode_sequence(input_seq):\n",
        "  # 입력 문장을 인코딩\n",
        "  enc_outputs, states_value = encoder_model.predict(input_seq)\n",
        " \n",
        "  # 디코더의 입력으로 쓸 단일 문자\n",
        "  target_seq = np.zeros((1, 1, num_decoder_tokens))\n",
        "  # 첫 입력은 시작 문자인 '\\t'로 설정\n",
        "  target_seq[0, 0, target_token_index['\\t']] = 1.\n",
        " \n",
        "  # 문장 생성\n",
        "  stop_condition = False\n",
        "  decoded_sentence = ''\n",
        "  while not stop_condition:\n",
        "    # 이전의 출력, 상태를 디코더에 넣어서 새로운 출력, 상태를 얻음\n",
        "    # 이전 문자와 상태로 다음 문자와 상태를 얻는다고 보면 됨.\n",
        "    dec_outputs, h, output_tokens = decoder_model.predict(\n",
        "        [target_seq, states_value, enc_outputs])\n",
        " \n",
        "    # 사전을 사용해서 원 핫 인코딩 출력을 실제 문자로 변환\n",
        "    sampled_token_index = np.argmax(output_tokens[0, -1, :])\n",
        "    sampled_char = reverse_target_char_index[sampled_token_index]\n",
        "    decoded_sentence += sampled_char\n",
        " \n",
        "    # 종료 문자가 나왔거나 문장 길이가 한계를 넘으면 종료\n",
        "    if (sampled_char == '\\n' or len(decoded_sentence) > max_decoder_seq_length):\n",
        "      stop_condition = True\n",
        " \n",
        "    # 디코더의 다음 입력으로 쓸 데이터 갱신\n",
        "    target_seq = np.zeros((1, 1, num_decoder_tokens))\n",
        "    target_seq[0, 0, sampled_token_index] = 1.\n",
        "    \n",
        "    states_value = h\n",
        " \n",
        "  return decoded_sentence\n",
        "\n"
      ],
      "execution_count": 1,
      "outputs": [
        {
          "output_type": "stream",
          "text": [
            "Using TensorFlow backend.\n"
          ],
          "name": "stderr"
        },
        {
          "output_type": "display_data",
          "data": {
            "text/html": [
              "<p style=\"color: red;\">\n",
              "The default version of TensorFlow in Colab will soon switch to TensorFlow 2.x.<br>\n",
              "We recommend you <a href=\"https://www.tensorflow.org/guide/migrate\" target=\"_blank\">upgrade</a> now \n",
              "or ensure your notebook will continue to use TensorFlow 1.x via the <code>%tensorflow_version 1.x</code> magic:\n",
              "<a href=\"https://colab.research.google.com/notebooks/tensorflow_version.ipynb\" target=\"_blank\">more info</a>.</p>\n"
            ],
            "text/plain": [
              "<IPython.core.display.HTML object>"
            ]
          },
          "metadata": {
            "tags": []
          }
        },
        {
          "output_type": "stream",
          "text": [
            "Number of samples: 1175\n",
            "Number of unique input tokens: 780\n",
            "Number of unique output tokens: 719\n",
            "Max sequence length for inputs: 165\n",
            "Max sequence length for outputs: 183\n",
            "WARNING:tensorflow:From /usr/local/lib/python3.6/dist-packages/keras/backend/tensorflow_backend.py:66: The name tf.get_default_graph is deprecated. Please use tf.compat.v1.get_default_graph instead.\n",
            "\n",
            "WARNING:tensorflow:From /usr/local/lib/python3.6/dist-packages/keras/backend/tensorflow_backend.py:541: The name tf.placeholder is deprecated. Please use tf.compat.v1.placeholder instead.\n",
            "\n",
            "WARNING:tensorflow:From /usr/local/lib/python3.6/dist-packages/keras/backend/tensorflow_backend.py:4432: The name tf.random_uniform is deprecated. Please use tf.random.uniform instead.\n",
            "\n",
            "WARNING:tensorflow:From /usr/local/lib/python3.6/dist-packages/keras/backend/tensorflow_backend.py:148: The name tf.placeholder_with_default is deprecated. Please use tf.compat.v1.placeholder_with_default instead.\n",
            "\n",
            "WARNING:tensorflow:From /usr/local/lib/python3.6/dist-packages/keras/backend/tensorflow_backend.py:3733: calling dropout (from tensorflow.python.ops.nn_ops) with keep_prob is deprecated and will be removed in a future version.\n",
            "Instructions for updating:\n",
            "Please use `rate` instead of `keep_prob`. Rate should be set to `rate = 1 - keep_prob`.\n",
            "WARNING:tensorflow:From /usr/local/lib/python3.6/dist-packages/keras/backend/tensorflow_backend.py:190: The name tf.get_default_session is deprecated. Please use tf.compat.v1.get_default_session instead.\n",
            "\n",
            "WARNING:tensorflow:From /usr/local/lib/python3.6/dist-packages/keras/backend/tensorflow_backend.py:197: The name tf.ConfigProto is deprecated. Please use tf.compat.v1.ConfigProto instead.\n",
            "\n",
            "WARNING:tensorflow:From /usr/local/lib/python3.6/dist-packages/keras/backend/tensorflow_backend.py:203: The name tf.Session is deprecated. Please use tf.compat.v1.Session instead.\n",
            "\n",
            "WARNING:tensorflow:From /usr/local/lib/python3.6/dist-packages/keras/backend/tensorflow_backend.py:207: The name tf.global_variables is deprecated. Please use tf.compat.v1.global_variables instead.\n",
            "\n",
            "WARNING:tensorflow:From /usr/local/lib/python3.6/dist-packages/keras/backend/tensorflow_backend.py:216: The name tf.is_variable_initialized is deprecated. Please use tf.compat.v1.is_variable_initialized instead.\n",
            "\n",
            "WARNING:tensorflow:From /usr/local/lib/python3.6/dist-packages/keras/backend/tensorflow_backend.py:223: The name tf.variables_initializer is deprecated. Please use tf.compat.v1.variables_initializer instead.\n",
            "\n",
            "Loaded model from disk\n",
            "WARNING:tensorflow:From /usr/local/lib/python3.6/dist-packages/keras/optimizers.py:793: The name tf.train.Optimizer is deprecated. Please use tf.compat.v1.train.Optimizer instead.\n",
            "\n",
            "WARNING:tensorflow:From /usr/local/lib/python3.6/dist-packages/keras/backend/tensorflow_backend.py:3576: The name tf.log is deprecated. Please use tf.math.log instead.\n",
            "\n"
          ],
          "name": "stdout"
        }
      ]
    },
    {
      "cell_type": "code",
      "metadata": {
        "id": "HVJ7CxAMNCci",
        "colab_type": "code",
        "colab": {}
      },
      "source": [
        "# TEST 셋 으로 테스트\n",
        "\n",
        "data_path_ = '/content/test.txt'\n",
        "\n",
        "# Vectorize the data.\n",
        "input_texts_ = []\n",
        "target_texts_ = []\n",
        "\n",
        "with open(data_path_, 'r', encoding='utf-8') as f:\n",
        "    lines = f.read().split('\\n')\n",
        "\n",
        "for line in lines[: min(num_samples, len(lines) - 1)]:\n",
        "    input_text, target_text = line.split('\\t')\n",
        "    # We use \"tab\" as the \"start sequence\" character\n",
        "    # for the targets, and \"\\n\" as \"end sequence\" character.\n",
        "    target_text = '\\t' + target_text + '\\n'\n",
        "    input_texts_.append(input_text)\n",
        "    target_texts_.append(target_text)\n",
        "# print(input_texts_)\n",
        "# print(target_text)\n",
        "# print(target_texts_)\n",
        "# 학습에 사용할 데이터를 담을 3차원 배열\n",
        "encoder_input_data_ = np.zeros(\n",
        "    (len(input_texts_), max_encoder_seq_length, num_encoder_tokens),\n",
        "    dtype='float32')\n",
        "decoder_input_data_ = np.zeros(\n",
        "    (len(input_texts_), max_decoder_seq_length, num_decoder_tokens),\n",
        "    dtype='float32')\n",
        "decoder_target_data_ = np.zeros(\n",
        "    (len(input_texts_), max_decoder_seq_length, num_decoder_tokens),\n",
        "    dtype='float32')\n",
        "\n",
        "\n",
        "# 문장을 문자 단위로 원 핫 인코딩하면서 학습용 데이터를 만듬\n",
        "for i, (input_text, target_text) in enumerate(zip(input_texts_, target_texts_)):\n",
        "    for t, char in enumerate(input_text):\n",
        "        encoder_input_data_[i, t, input_token_index[char]] = 1.\n",
        "    for t, char in enumerate(target_text):\n",
        "        decoder_input_data_[i, t, target_token_index[char]] = 1.\n",
        "        if t > 0:\n",
        "            decoder_target_data_[i, t - 1, target_token_index[char]] = 1.\n",
        "\n"
      ],
      "execution_count": 0,
      "outputs": []
    },
    {
      "cell_type": "code",
      "metadata": {
        "id": "X6r1N_PrxC9N",
        "colab_type": "code",
        "colab": {
          "base_uri": "https://localhost:8080/",
          "height": 995
        },
        "outputId": "46942a62-f408-4b19-876b-ca94e9ba7d69"
      },
      "source": [
        "# TEST 셋 확인..\n",
        "test_ = []\n",
        "for seq_index in range(0,len(input_texts_),1):\n",
        "  \n",
        "  input_seq = encoder_input_data_[seq_index: seq_index + 1]\n",
        "  decoded_sentence = decode_sequence(input_seq)\n",
        "  print('\"{}\" -> \"{}\"'.format(input_texts_[seq_index], decoded_sentence.strip()))\n",
        "  test_.append(decoded_sentence.strip())"
      ],
      "execution_count": 3,
      "outputs": [
        {
          "output_type": "stream",
          "text": [
            "\"﻿걸러지다 \" -> \"거꾸러지다\"\n",
            "\"고른배기 \" -> \"호다박자\"\n",
            "\"고쩌사다 \" -> \"비켜서다\"\n",
            "\"곤작싸다 \" -> \"재주넘다\"\n",
            "\"꼴성그리다 \" -> \"얼굴을찡그리다\"\n",
            "\"곱지다 \" -> \"숨기다\"\n",
            "\"구숭호다 \" -> \"불평을말하다\"\n",
            "\"꾸러박아지다 \" -> \"거꾸로박히다\"\n",
            "\"귀태우다 \" -> \"은밀히알려주다\"\n",
            "\"고끼다 \" -> \"숨막히다\"\n",
            "\"골메드리다 \" -> \"차례로바꾸다\"\n",
            "\"늘짝거리다 \" -> \"늑장부리다\"\n",
            "\"끼리다 \" -> \"미끄러지다\"\n",
            "\"다울리다 \" -> \"재촉하다\"\n",
            "\"댕기다 \" -> \"다니다\"\n",
            "\"데껴불다 \" -> \"던져버리다\"\n",
            "\"되싸지다 \" -> \"갈라지다\"\n",
            "\"들럭퀴다 \" -> \"날 뛰다\"\n",
            "\"몽캐다 \" -> \"느리다\"\n",
            "\"몽캐다 \" -> \"느리다\"\n",
            "\"베르싸다 \" -> \"까발리다\"\n",
            "\"부수닥질호다 \" -> \"부수어버리다\"\n",
            "\"부에나다 \" -> \"화나다\"\n",
            "\"쎄울르다 \" -> \"고함지르다\"\n",
            "\"소곤닥호다 \" -> \"소근거리다\"\n",
            "\"무신거옌 고람신디 몰르쿠게?\" -> \"무엇이 말을 하고\"\n",
            "\"게메마씀\" -> \"글세요\"\n",
            "\"경해도 고만히 생각호멍 들으민 호꼼식 알라집니다.\" -> \"그래도 가만히 생각하며 들으면 조금씩 알게  뿐이니\"\n",
            "\"펜안하우꽈?\" -> \"안녕하십니까?\"\n",
            "\"제주도에 오난 어떵 하우꽈?\" -> \"제주도에 오니 어떠하십니까?\"\n",
            "\"산이영 바당이영 몬딱 좋은게 마씀.\" -> \"공기도 맑고이 산이랑 바다랑 모두이 좋습니다.\"\n",
            "\"저기 물허벅 정가는 거\" -> \"아기 잘지 아니가 말해도 못하고 아기 보려네\"\n",
            "\"맞수다. 비바리도 있고\" -> \"맞습니다.\"\n",
            "\"날 얼마나 소랑햄쑤과?\" -> \"무나 좋어 사람 얼굴 안하십니까?\"\n",
            "\"저기 한락산만큼\" -> \"들고 이며 놀았다고 해서 울다.\"\n",
            "\"이 조끄뜨레만 오라게\" -> \"당이 아무서 가십시오\"\n",
            "\"무사 조끄뜨레만 오랜 햄수과?\" -> \"왜 그렇게 말하십니까?\"\n",
            "\"호꼼 이라도 고치만 있고싶언.\" -> \"조금만 계십시오.\"\n",
            "\"둥구리멍 질룬 독새기가 빙애기 된댕 혼다.\" -> \"뒹글리면서 기른 달걀이 병아리가 된다고 한다.\"\n",
            "\"혼저 왕 먹읍서.\" -> \"어서 와서 먹으십시오.\"\n",
            "\"맨도롱 했수과?\" -> \"따뜻합니까?\"\n",
            "\"맨도롱 홀때 호로록 들여 싸붑서.\" -> \"따뜻한 때 후루룩 마셔 버리십시오.\"\n",
            "\"무싱거꽈?\" -> \"무엇입니까?\"\n",
            "\"소도리 행 댕기지 맙서.\" -> \"소문 옮기면서 다니지 마십시오.\"\n",
            "\"호꼼 미안하우다. 이게 얼마꽈?\" -> \"엄마랑 합니다.\"\n",
            "\"무사\" -> \"왜 그러워지요\"\n",
            "\"서울서 온 소나이\" -> \"고쟁이\"\n",
            "\"제주 비바리에 미쳐부런\" -> \"제주도 바다\"\n",
            "\"오늘가카\" -> \"뼈\"\n",
            "\"옴짝 못핸 살암서라.\" -> \"어치 요\"\n",
            "\"속앗수다예!\" -> \"고소하다\"\n",
            "\"놈들곧이 살아그네 어떵허쿠과?\" -> \"어떻게 없는 ?\"\n",
            "\"집에 가카마시?\" -> \"그러십니까?\"\n",
            "\"왕 밥 먹읍서예!\" -> \"곱와 와서 먹으십시오\"\n",
            "\"강 봐그네 잇걸랑 상옵서\" -> \"사나이 아서 가 보십시오\"\n"
          ],
          "name": "stdout"
        }
      ]
    },
    {
      "cell_type": "code",
      "metadata": {
        "id": "GBVsPr3YY-Ft",
        "colab_type": "code",
        "colab": {}
      },
      "source": [
        ""
      ],
      "execution_count": 0,
      "outputs": []
    },
    {
      "cell_type": "code",
      "metadata": {
        "id": "vgzt9KB6L9ay",
        "colab_type": "code",
        "colab": {}
      },
      "source": [
        "result= []\n",
        "for seq_index in range(0,len(input_texts),1):\n",
        "  \n",
        "  input_seq = encoder_input_data[seq_index: seq_index + 1]\n",
        "  decoded_sentence = decode_sequence(input_seq)\n",
        "  #print('\"{}\" -> \"{}\"'.format(input_texts[seq_index], decoded_sentence.strip()))\n",
        "  result.append(decoded_sentence.strip())\n",
        "\n",
        "target_texts2 = []\n",
        "\n",
        "with open(data_path, 'r', encoding='utf-8') as f:\n",
        "    lines = f.read().split('\\n')\n",
        "\n",
        "for line in lines[: min(num_samples, len(lines) - 1)]:\n",
        "    _, target_text2 = line.split('\\t')\n",
        "    target_text2 = target_text2\n",
        "    target_texts2.append(target_text2)\n",
        "    # for char in target_text2:\n",
        "    #     if char not in target_characters:\n",
        "    #         target_characters.add(char)"
      ],
      "execution_count": 0,
      "outputs": []
    },
    {
      "cell_type": "code",
      "metadata": {
        "id": "YgS-PZa6M1Yz",
        "colab_type": "code",
        "colab": {}
      },
      "source": [
        "tar = target_texts2[0:len(input_texts)]\n",
        "#tar"
      ],
      "execution_count": 0,
      "outputs": []
    },
    {
      "cell_type": "code",
      "metadata": {
        "id": "o00dOI1cNvtp",
        "colab_type": "code",
        "outputId": "bd21504c-cacb-420c-b1a8-bb9e978c73b2",
        "colab": {
          "base_uri": "https://localhost:8080/",
          "height": 248
        }
      },
      "source": [
        "# https://donghwa-kim.github.io/BLEU.html\n",
        "def dap(result, tar):\n",
        "  import nltk.translate.bleu_score as bleu\n",
        "  candidate = []\n",
        "  references = []\n",
        "  dap = []\n",
        "  dd = []\n",
        "  for i in range(0,len(result)):\n",
        "    re = []\n",
        "    candidate = result[i]\n",
        "    re.append(tar[i])\n",
        "    dap.append(bleu.sentence_bleu(list(map(lambda ref: ref.split(), re)),candidate.split()))\n",
        "    if i % 10 == 0:\n",
        "      dd.append(bleu.sentence_bleu(list(map(lambda ref: ref.split(), re)),candidate.split()))\n",
        "      #print(\"예측값:\",candidate,'//',\"실제값:\",re,\"Bleu 점수:\",dd)\n",
        "      dd=[]\n",
        "  return sum(dap)/len(result)\n",
        "# 성능테스트\n",
        "print('전체점수 : ', dap(result,tar))"
      ],
      "execution_count": 10,
      "outputs": [
        {
          "output_type": "stream",
          "text": [
            "전체점수 :  0.7779943380425913\n"
          ],
          "name": "stdout"
        },
        {
          "output_type": "stream",
          "text": [
            "/usr/local/lib/python3.6/dist-packages/nltk/translate/bleu_score.py:490: UserWarning: \n",
            "Corpus/Sentence contains 0 counts of 2-gram overlaps.\n",
            "BLEU scores might be undesirable; use SmoothingFunction().\n",
            "  warnings.warn(_msg)\n",
            "/usr/local/lib/python3.6/dist-packages/nltk/translate/bleu_score.py:490: UserWarning: \n",
            "Corpus/Sentence contains 0 counts of 3-gram overlaps.\n",
            "BLEU scores might be undesirable; use SmoothingFunction().\n",
            "  warnings.warn(_msg)\n",
            "/usr/local/lib/python3.6/dist-packages/nltk/translate/bleu_score.py:490: UserWarning: \n",
            "Corpus/Sentence contains 0 counts of 4-gram overlaps.\n",
            "BLEU scores might be undesirable; use SmoothingFunction().\n",
            "  warnings.warn(_msg)\n"
          ],
          "name": "stderr"
        }
      ]
    },
    {
      "cell_type": "code",
      "metadata": {
        "id": "bU5lx_fKaJFK",
        "colab_type": "code",
        "colab": {}
      },
      "source": [
        ""
      ],
      "execution_count": 0,
      "outputs": []
    },
    {
      "cell_type": "code",
      "metadata": {
        "id": "AUs04Y-8Zoqg",
        "colab_type": "code",
        "colab": {}
      },
      "source": [
        ""
      ],
      "execution_count": 0,
      "outputs": []
    },
    {
      "cell_type": "code",
      "metadata": {
        "id": "ZAbBnE8RZox4",
        "colab_type": "code",
        "colab": {}
      },
      "source": [
        "# Test Bleu 점수"
      ],
      "execution_count": 0,
      "outputs": []
    },
    {
      "cell_type": "code",
      "metadata": {
        "id": "eWiYMAtlaJjg",
        "colab_type": "code",
        "colab": {}
      },
      "source": [
        "target_texts1 = []\n",
        "\n",
        "with open(data_path_, 'r', encoding='utf-8') as f:\n",
        "    lines = f.read().split('\\n')\n",
        "\n",
        "for line in lines[: min(num_samples, len(lines) - 1)]:\n",
        "    _, target_text1 = line.split('\\t')\n",
        "    target_text1 = target_text1\n",
        "    target_texts1.append(target_text1)\n",
        "    # for char in target_text2:\n",
        "    #     if char not in target_characters:\n",
        "    #         target_characters.add(char)\n",
        "\n",
        "tar_ = target_texts1[0:len(input_texts_)]"
      ],
      "execution_count": 0,
      "outputs": []
    },
    {
      "cell_type": "code",
      "metadata": {
        "id": "chUVdlq8Zo7L",
        "colab_type": "code",
        "colab": {
          "base_uri": "https://localhost:8080/",
          "height": 248
        },
        "outputId": "6ca46865-dae1-4999-bdcd-7a68b6ba8ca8"
      },
      "source": [
        "def dap2(test_, tar_):\n",
        "  import nltk.translate.bleu_score as bleu\n",
        "  candidate = []\n",
        "  references = []\n",
        "  dap = []\n",
        "  dd = []\n",
        "  for i in range(0,len(test_)):\n",
        "    re = []\n",
        "    candidate = test_[i]\n",
        "    re.append(tar_[i])\n",
        "    dap.append(bleu.sentence_bleu(list(map(lambda ref: ref.split(), re)),candidate.split()))\n",
        "    # if i % 10 == 0:\n",
        "    #   dd.append(bleu.sentence_bleu(list(map(lambda ref: ref.split(), re)),candidate.split()))\n",
        "    #   print(\"예측값:\",candidate,'//',\"실제값:\",re,\"Bleu 점수:\",dd)\n",
        "    #   dd=[]\n",
        "  return sum(dap)/len(test_)\n",
        "# 성능테스트\n",
        "print('전체점수 : ', dap2(test_,tar_))"
      ],
      "execution_count": 5,
      "outputs": [
        {
          "output_type": "stream",
          "text": [
            "전체점수 :  0.6404671151318605\n"
          ],
          "name": "stdout"
        },
        {
          "output_type": "stream",
          "text": [
            "/usr/local/lib/python3.6/dist-packages/nltk/translate/bleu_score.py:490: UserWarning: \n",
            "Corpus/Sentence contains 0 counts of 2-gram overlaps.\n",
            "BLEU scores might be undesirable; use SmoothingFunction().\n",
            "  warnings.warn(_msg)\n",
            "/usr/local/lib/python3.6/dist-packages/nltk/translate/bleu_score.py:490: UserWarning: \n",
            "Corpus/Sentence contains 0 counts of 3-gram overlaps.\n",
            "BLEU scores might be undesirable; use SmoothingFunction().\n",
            "  warnings.warn(_msg)\n",
            "/usr/local/lib/python3.6/dist-packages/nltk/translate/bleu_score.py:490: UserWarning: \n",
            "Corpus/Sentence contains 0 counts of 4-gram overlaps.\n",
            "BLEU scores might be undesirable; use SmoothingFunction().\n",
            "  warnings.warn(_msg)\n"
          ],
          "name": "stderr"
        }
      ]
    },
    {
      "cell_type": "code",
      "metadata": {
        "id": "MZv5c91mZowO",
        "colab_type": "code",
        "colab": {}
      },
      "source": [
        ""
      ],
      "execution_count": 0,
      "outputs": []
    },
    {
      "cell_type": "code",
      "metadata": {
        "id": "uC7hkT-8ZouX",
        "colab_type": "code",
        "colab": {}
      },
      "source": [
        ""
      ],
      "execution_count": 0,
      "outputs": []
    },
    {
      "cell_type": "code",
      "metadata": {
        "id": "XJKIJwCRcnXM",
        "colab_type": "code",
        "colab": {}
      },
      "source": [
        ""
      ],
      "execution_count": 0,
      "outputs": []
    },
    {
      "cell_type": "code",
      "metadata": {
        "id": "dGFD2Dh6cnZ6",
        "colab_type": "code",
        "colab": {}
      },
      "source": [
        ""
      ],
      "execution_count": 0,
      "outputs": []
    },
    {
      "cell_type": "code",
      "metadata": {
        "id": "-wlKdkp5U9R1",
        "colab_type": "code",
        "outputId": "4f465b8c-c2c6-494e-8311-d73e65974f48",
        "colab": {
          "base_uri": "https://localhost:8080/",
          "height": 336
        }
      },
      "source": [
        "import matplotlib.pyplot as plt\n",
        "plt.plot(bleu, label='BLEU')\n",
        "#plt.plot(model.history.history['val_loss'], 'r', label='val loss')\n",
        "plt.legend(loc='upper right')\n",
        "plt.show()"
      ],
      "execution_count": 0,
      "outputs": [
        {
          "output_type": "stream",
          "text": [
            "/usr/local/lib/python3.6/dist-packages/matplotlib/backends/backend_agg.py:211: RuntimeWarning: Glyph 51204 missing from current font.\n",
            "  font.set_text(s, 0.0, flags=flags)\n",
            "/usr/local/lib/python3.6/dist-packages/matplotlib/backends/backend_agg.py:180: RuntimeWarning: Glyph 51204 missing from current font.\n",
            "  font.set_text(s, 0, flags=flags)\n"
          ],
          "name": "stderr"
        },
        {
          "output_type": "display_data",
          "data": {
            "image/png": "[encoded data removed]",
            "text/plain": [
              "<Figure size 432x288 with 1 Axes>"
            ]
          },
          "metadata": {
            "tags": []
          }
        }
      ]
    },
    {
      "cell_type": "code",
      "metadata": {
        "id": "AlYRd_CQZoX4",
        "colab_type": "code",
        "colab": {}
      },
      "source": [
        ""
      ],
      "execution_count": 0,
      "outputs": []
    },
    {
      "cell_type": "code",
      "metadata": {
        "id": "T52Fr5OWmQQ0",
        "colab_type": "code",
        "outputId": "50492453-80d6-4c0a-cd42-6625821f4853",
        "colab": {
          "base_uri": "https://localhost:8080/",
          "height": 278
        }
      },
      "source": [
        "plt.plot(loss['dropoutX_batch16'], 'y', label='dropoutX_batch16')\n",
        "plt.plot(loss['dropout_batch16'], 'r', label='dropout_batch16')\n",
        "plt.plot(loss['dropout_X_batch32'], 'black', label='dropout_X_batch32')\n",
        "plt.plot(loss['dropout_batch32'], 'g', label='dropout_batch32')\n",
        "plt.plot(loss['dropoutX_batch64'], 'r+', label='dropoutX_batch64')\n",
        "plt.plot(loss['dropout_batch64'], 'b', label='dropout_batch64')\n",
        "plt.legend(loc='upper right')\n",
        "plt.xlabel(\"Loss\")\n",
        "plt.show()"
      ],
      "execution_count": 0,
      "outputs": [
        {
          "output_type": "display_data",
          "data": {
            "image/png": "[encoded data removed]",
            "text/plain": [
              "<Figure size 432x288 with 1 Axes>"
            ]
          },
          "metadata": {
            "tags": []
          }
        }
      ]
    },
    {
      "cell_type": "code",
      "metadata": {
        "id": "BiIkSSrQqZ1V",
        "colab_type": "code",
        "outputId": "773d83b9-9b69-41f3-c8e6-5c0f7d279f16",
        "colab": {
          "base_uri": "https://localhost:8080/",
          "height": 105
        }
      },
      "source": [
        "import nltk.translate.bleu_score as bleu\n",
        "\n",
        "# 예측값\n",
        "candidate = '따뜻합니까?'\n",
        "\n",
        "# 정답값\n",
        "references = ['따뜻합니까?']\n",
        "\n",
        "print(bleu.sentence_bleu(list(map(lambda ref: ref.split(), references)),candidate.split()))\n",
        "# NLTK 패키지 구현되어져 있는 코드로 계산한 BLEU 점수"
      ],
      "execution_count": 0,
      "outputs": [
        {
          "output_type": "stream",
          "text": [
            "1.0\n"
          ],
          "name": "stdout"
        },
        {
          "output_type": "stream",
          "text": [
            "/usr/local/lib/python3.6/dist-packages/nltk/translate/bleu_score.py:490: UserWarning: \n",
            "Corpus/Sentence contains 0 counts of 2-gram overlaps.\n",
            "BLEU scores might be undesirable; use SmoothingFunction().\n",
            "  warnings.warn(_msg)\n"
          ],
          "name": "stderr"
        }
      ]
    },
    {
      "cell_type": "code",
      "metadata": {
        "id": "99rjfa2MUyey",
        "colab_type": "code",
        "colab": {}
      },
      "source": [
        ""
      ],
      "execution_count": 0,
      "outputs": []
    },
    {
      "cell_type": "code",
      "metadata": {
        "id": "vtdlR3pUUyl2",
        "colab_type": "code",
        "colab": {}
      },
      "source": [
        ""
      ],
      "execution_count": 0,
      "outputs": []
    },
    {
      "cell_type": "code",
      "metadata": {
        "id": "SnxNBal0UykL",
        "colab_type": "code",
        "colab": {}
      },
      "source": [
        ""
      ],
      "execution_count": 0,
      "outputs": []
    },
    {
      "cell_type": "code",
      "metadata": {
        "id": "02wcJRr1Uyg3",
        "colab_type": "code",
        "colab": {}
      },
      "source": [
        ""
      ],
      "execution_count": 0,
      "outputs": []
    },
    {
      "cell_type": "code",
      "metadata": {
        "id": "wSJUhRToR4Kd",
        "colab_type": "code",
        "colab": {}
      },
      "source": [
        ""
      ],
      "execution_count": 0,
      "outputs": []
    }
  ]
}