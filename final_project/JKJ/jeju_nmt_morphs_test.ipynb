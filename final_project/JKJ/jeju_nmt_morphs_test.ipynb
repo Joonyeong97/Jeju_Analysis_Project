{
  "nbformat": 4,
  "nbformat_minor": 0,
  "metadata": {
    "kernelspec": {
      "name": "python3",
      "display_name": "Python 3"
    },
    "language_info": {
      "codemirror_mode": {
        "name": "ipython",
        "version": 3
      },
      "file_extension": ".py",
      "mimetype": "text/x-python",
      "name": "python",
      "nbconvert_exporter": "python",
      "pygments_lexer": "ipython3",
      "version": "3.7.4"
    },
    "colab": {
      "name": "jeju_nmt_morphs.ipynb",
      "provenance": [],
      "collapsed_sections": []
    },
    "accelerator": "GPU"
  },
  "cells": [
    {
      "cell_type": "code",
      "metadata": {
        "id": "AV5KDVgLmtKP",
        "colab_type": "code",
        "colab": {
          "base_uri": "https://localhost:8080/",
          "height": 606
        },
        "outputId": "27a9b184-c057-4446-e128-a88f0085363b"
      },
      "source": [
        "!pip install konlpy"
      ],
      "execution_count": 9,
      "outputs": [
        {
          "output_type": "stream",
          "text": [
            "Collecting konlpy\n",
            "\u001b[?25l  Downloading https://files.pythonhosted.org/packages/85/0e/f385566fec837c0b83f216b2da65db9997b35dd675e107752005b7d392b1/konlpy-0.5.2-py2.py3-none-any.whl (19.4MB)\n",
            "\u001b[K     |████████████████████████████████| 19.4MB 149kB/s \n",
            "\u001b[?25hCollecting colorama\n",
            "  Downloading https://files.pythonhosted.org/packages/c9/dc/45cdef1b4d119eb96316b3117e6d5708a08029992b2fee2c143c7a0a5cc5/colorama-0.4.3-py2.py3-none-any.whl\n",
            "Collecting JPype1>=0.7.0\n",
            "\u001b[?25l  Downloading https://files.pythonhosted.org/packages/04/90/a94a55a58edfd67360fef85894bfb136a2c28b2cc7227d3a44dc508d5900/JPype1-0.7.1-cp36-cp36m-manylinux1_x86_64.whl (2.3MB)\n",
            "\u001b[K     |████████████████████████████████| 2.3MB 36.0MB/s \n",
            "\u001b[?25hRequirement already satisfied: numpy>=1.6 in /usr/local/lib/python3.6/dist-packages (from konlpy) (1.17.5)\n",
            "Collecting tweepy>=3.7.0\n",
            "  Downloading https://files.pythonhosted.org/packages/36/1b/2bd38043d22ade352fc3d3902cf30ce0e2f4bf285be3b304a2782a767aec/tweepy-3.8.0-py2.py3-none-any.whl\n",
            "Requirement already satisfied: lxml>=4.1.0 in /usr/local/lib/python3.6/dist-packages (from konlpy) (4.2.6)\n",
            "Collecting beautifulsoup4==4.6.0\n",
            "\u001b[?25l  Downloading https://files.pythonhosted.org/packages/9e/d4/10f46e5cfac773e22707237bfcd51bbffeaf0a576b0a847ec7ab15bd7ace/beautifulsoup4-4.6.0-py3-none-any.whl (86kB)\n",
            "\u001b[K     |████████████████████████████████| 92kB 11.5MB/s \n",
            "\u001b[?25hRequirement already satisfied: requests-oauthlib>=0.7.0 in /usr/local/lib/python3.6/dist-packages (from tweepy>=3.7.0->konlpy) (1.3.0)\n",
            "Requirement already satisfied: six>=1.10.0 in /usr/local/lib/python3.6/dist-packages (from tweepy>=3.7.0->konlpy) (1.12.0)\n",
            "Requirement already satisfied: PySocks>=1.5.7 in /usr/local/lib/python3.6/dist-packages (from tweepy>=3.7.0->konlpy) (1.7.1)\n",
            "Requirement already satisfied: requests>=2.11.1 in /usr/local/lib/python3.6/dist-packages (from tweepy>=3.7.0->konlpy) (2.21.0)\n",
            "Requirement already satisfied: oauthlib>=3.0.0 in /usr/local/lib/python3.6/dist-packages (from requests-oauthlib>=0.7.0->tweepy>=3.7.0->konlpy) (3.1.0)\n",
            "Requirement already satisfied: urllib3<1.25,>=1.21.1 in /usr/local/lib/python3.6/dist-packages (from requests>=2.11.1->tweepy>=3.7.0->konlpy) (1.24.3)\n",
            "Requirement already satisfied: certifi>=2017.4.17 in /usr/local/lib/python3.6/dist-packages (from requests>=2.11.1->tweepy>=3.7.0->konlpy) (2019.11.28)\n",
            "Requirement already satisfied: chardet<3.1.0,>=3.0.2 in /usr/local/lib/python3.6/dist-packages (from requests>=2.11.1->tweepy>=3.7.0->konlpy) (3.0.4)\n",
            "Requirement already satisfied: idna<2.9,>=2.5 in /usr/local/lib/python3.6/dist-packages (from requests>=2.11.1->tweepy>=3.7.0->konlpy) (2.8)\n",
            "Installing collected packages: colorama, JPype1, tweepy, beautifulsoup4, konlpy\n",
            "  Found existing installation: tweepy 3.6.0\n",
            "    Uninstalling tweepy-3.6.0:\n",
            "      Successfully uninstalled tweepy-3.6.0\n",
            "  Found existing installation: beautifulsoup4 4.6.3\n",
            "    Uninstalling beautifulsoup4-4.6.3:\n",
            "      Successfully uninstalled beautifulsoup4-4.6.3\n",
            "Successfully installed JPype1-0.7.1 beautifulsoup4-4.6.0 colorama-0.4.3 konlpy-0.5.2 tweepy-3.8.0\n"
          ],
          "name": "stdout"
        }
      ]
    },
    {
      "cell_type": "code",
      "metadata": {
        "id": "woVcBMUimFp5",
        "colab_type": "code",
        "colab": {}
      },
      "source": [
        "import numpy as np\n",
        "import os\n",
        "import random\n",
        "import tensorflow as tf\n",
        "from collections import Counter\n",
        "import csv\n",
        "\n",
        "from keras.models import Model\n",
        "from keras.layers import Input, LSTM, Dense, Bidirectional,TimeDistributed"
      ],
      "execution_count": 0,
      "outputs": []
    },
    {
      "cell_type": "markdown",
      "metadata": {
        "id": "9k82CoStvg2i",
        "colab_type": "text"
      },
      "source": [
        ""
      ]
    },
    {
      "cell_type": "code",
      "metadata": {
        "id": "Ew7JhH9TmFp-",
        "colab_type": "code",
        "colab": {}
      },
      "source": [
        "batch_size = 16 #32, 64\n",
        "epochs = 100\n",
        "latent_dim = 256\n",
        "num_samples = 5000\n",
        "data_path = '/content/jeju_final.txt'"
      ],
      "execution_count": 0,
      "outputs": []
    },
    {
      "cell_type": "code",
      "metadata": {
        "id": "U5sWM_HImFqB",
        "colab_type": "code",
        "colab": {}
      },
      "source": [
        "input_texts = [] # 제주어\n",
        "target_texts = [] # 표준어\n",
        "\n",
        "with open(data_path, 'r', encoding='utf-8') as f:\n",
        "    lines = f.read().split('\\n')\n",
        "for line in lines[:min(num_samples, len(lines)-1)]:\n",
        "    input_text, target_text = line.split('\\t')\n",
        "    target_text = target_text.strip() # 타겟 데이터 앞뒤 구분자는 뒤어서 넣어주자\n",
        "    input_texts.append(input_text)\n",
        "    target_texts.append(target_text)"
      ],
      "execution_count": 0,
      "outputs": []
    },
    {
      "cell_type": "code",
      "metadata": {
        "id": "aNx-D9iXmFqE",
        "colab_type": "code",
        "colab": {}
      },
      "source": [
        "from konlpy.tag import Kkma\n",
        "from konlpy.tag import Komoran\n",
        "from konlpy.tag import Hannanum\n",
        "from konlpy.tag import Mecab\n",
        "from konlpy.tag import Okt\n",
        "import json\n",
        "import os\n",
        "from pprint import pprint"
      ],
      "execution_count": 0,
      "outputs": []
    },
    {
      "cell_type": "code",
      "metadata": {
        "id": "v6ol7671mFqH",
        "colab_type": "code",
        "colab": {}
      },
      "source": [
        "def make_morph_to_json(dataset, json_path, package='Okt'):\n",
        "    if package == 'Kkma':\n",
        "        tokenizer = Kkma()\n",
        "    elif package == 'Komoran':\n",
        "        tokenizer = Komoran()\n",
        "    elif package == 'Hannanum':\n",
        "        tokenizer = Hannanum()\n",
        "    elif package == 'Mecab':\n",
        "        tokenizer = Mecab()\n",
        "    else:\n",
        "        tokenizer = Okt()\n",
        "    tokenized = [tokenizer.morphs(row) for row in dataset]\n",
        "    length = []\n",
        "    for tok in tokenized:\n",
        "        length.append(len(tok))\n",
        "    max_token_length = max(length)\n",
        "    \n",
        "    with open(json_path, 'w', encoding='utf-8') as make_file:\n",
        "        json.dump(tokenized, make_file, ensure_ascii=False, indent='\\t')\n",
        "    return max_token_length\n",
        "\n",
        "#make_morph_to_json(target_texts, 'mecab_seoul.json', Mecab)\n"
      ],
      "execution_count": 0,
      "outputs": []
    },
    {
      "cell_type": "code",
      "metadata": {
        "id": "YTDdvJYBmFqK",
        "colab_type": "code",
        "colab": {}
      },
      "source": [
        "# 사용자 정의 사전 okt -> komoran으로 맵핑\n",
        "with open('/content/jeju_vocab.txt', encoding='utf-8-sig') as f:\n",
        "    fn = open('/content/jeju_dic.txt', 'w')\n",
        "    for line in f:\n",
        "        dic, pos = line.split('\\t')\n",
        "        pos = pos.lower().strip()\n",
        "        if pos in 'noun':\n",
        "            pos = 'NN'\n",
        "        elif pos in 'verb':\n",
        "            pos = 'VV'\n",
        "        elif pos in 'adverb' or pos in 'adberb':\n",
        "            pos = 'MA'\n",
        "        elif pos in 'determiner':\n",
        "            pos = 'NP'\n",
        "        elif pos in 'exclamation':\n",
        "            pos = 'IC'\n",
        "        elif pos in 'adjective':\n",
        "            pos = 'VA'\n",
        "        elif pos in 'suffix':\n",
        "            pos = 'XS'\n",
        "        elif pos in 'josa':\n",
        "            pos = 'JK'\n",
        "        elif pos in 'number':\n",
        "            pos = 'SN'\n",
        "        else:\n",
        "            pass\n",
        "        new_line = dic + '\\t' + pos + '\\n'\n",
        "        fn.write(new_line)\n",
        "    fn.close()"
      ],
      "execution_count": 0,
      "outputs": []
    },
    {
      "cell_type": "code",
      "metadata": {
        "id": "hh5VYoz4mFqN",
        "colab_type": "code",
        "colab": {}
      },
      "source": [
        "# 사용자 정의 사전 적용해서 형태소 분석 (Komoran)\n",
        "jeju_dic = '/content/jeju_dic.txt'\n",
        "komoran = Komoran(userdic='/content/jeju_dic.txt')\n",
        "tokenized = [komoran.morphs(row) for row in input_texts]\n",
        "token_length = []\n",
        "for token in tokenized:\n",
        "    token_length.append(len(token))\n",
        "max_token_length = max(token_length)\n",
        "with open('jeju_userdic.json', 'w', encoding='utf-8') as make_file:\n",
        "   json.dump(tokenized, make_file, ensure_ascii=False, indent='\\t')\n",
        "\n"
      ],
      "execution_count": 0,
      "outputs": []
    },
    {
      "cell_type": "code",
      "metadata": {
        "id": "sEw8a5hImFqQ",
        "colab_type": "code",
        "colab": {}
      },
      "source": [
        "# json 불러와서 딕셔너리 만들기\n",
        "def make_dictionary_morph(json_path):\n",
        "    with open(json_path, 'r') as f:\n",
        "        json_data = json.load(f)\n",
        "        morph_dictionary = set()\n",
        "        for sentence in json_data:\n",
        "            for morph in sentence:\n",
        "                if morph not in morph_dictionary:\n",
        "                    morph_dictionary.add(morph)\n",
        "        morph_dictionary = sorted(list(morph_dictionary))\n",
        "    return morph_dictionary, json_data\n",
        "\n",
        "#morph_dictionary, kkma_morphs = make_dictionary_morph(json_path)\n",
        "#target_to_index, target_reverse_index, len_target_tokens = make_token_index(morph_dictionary)\n",
        "#morph_dictionary, json_data = make_dictionary_morph('jeju_userdic.json')"
      ],
      "execution_count": 0,
      "outputs": []
    },
    {
      "cell_type": "code",
      "metadata": {
        "id": "Q-eWPWommFqU",
        "colab_type": "code",
        "colab": {}
      },
      "source": [
        "# 토큰 인덱스\n",
        "def make_token_index(dictionary):\n",
        "    to_index = [(char, i) for i, char in enumerate(dictionary)]\n",
        "    to_index.append(('<unk>', len(to_index)))\n",
        "    to_index.append((' ', len(to_index)))\n",
        "    to_index = dict(to_index)\n",
        "    reverse_index = [(i, char) for i, char in enumerate(dictionary)]\n",
        "    reverse_index.append((len(reverse_index), '<unk>'))\n",
        "    reverse_index.append((len(reverse_index), ' '))\n",
        "    reverse_index = dict(reverse_index)\n",
        "    return to_index, reverse_index, len(to_index)\n",
        "\n",
        "#make_token_index(make_dictionary_char(input_texts))\n",
        "#make_token_index(morph_dictionary)"
      ],
      "execution_count": 0,
      "outputs": []
    },
    {
      "cell_type": "code",
      "metadata": {
        "id": "v-syN18PmFqW",
        "colab_type": "code",
        "colab": {}
      },
      "source": [
        "# 테스트를 해봅시다\n",
        "# 코모란으로, 타겟(표준어)은 걍 돌리고 제주어는 사용자 정의한 걸로\n",
        "\n",
        "input_path = '/content/jeju_userdic.json'\n",
        "target_path = '/content/seoul_Komoran.json'\n",
        "max_encoder_length = max_token_length\n",
        "max_decoder_length = make_morph_to_json(target_texts, target_path, package='Komoran')"
      ],
      "execution_count": 0,
      "outputs": []
    },
    {
      "cell_type": "code",
      "metadata": {
        "id": "mBNhma1AmFqa",
        "colab_type": "code",
        "colab": {}
      },
      "source": [
        "input_morph_dic, input_morph_data = make_dictionary_morph(input_path)\n",
        "target_morph_dic, target_morph_data = make_dictionary_morph(target_path)\n",
        "\n",
        "input_index, input_reverse_index, num_encoder_tokens = make_token_index(input_morph_dic)\n",
        "target_index, target_reverse_index, num_decoder_tokens = make_token_index(target_morph_dic)"
      ],
      "execution_count": 0,
      "outputs": []
    },
    {
      "cell_type": "code",
      "metadata": {
        "id": "gVjrlNbFmFqc",
        "colab_type": "code",
        "colab": {}
      },
      "source": [
        ""
      ],
      "execution_count": 0,
      "outputs": []
    },
    {
      "cell_type": "code",
      "metadata": {
        "id": "s4cZ_lYSmFqe",
        "colab_type": "code",
        "colab": {}
      },
      "source": [
        "# 필요한 건, 총 데이터 길이 / 문장 길이 / 토큰 길이\n",
        "# 원핫인코딩 ㅠㅠ 밖에 못헤ㅐㅇ잉 ㅠㅠㅠ 임베딩은 ... 추후 과제....ㅎ\n",
        "\n",
        "encoder_input_data = np.zeros((len(input_texts), max_encoder_length, num_encoder_tokens),\n",
        "                             dtype='float32')\n",
        "decoder_input_data = np.zeros((len(target_texts), max_decoder_length, num_decoder_tokens),\n",
        "                             dtype='float32')\n",
        "decoder_target_data = np.zeros((len(target_texts), max_decoder_length, num_decoder_tokens),\n",
        "                              dtype='float32')\n",
        "\n",
        "for i, sentence in enumerate(input_morph_data):\n",
        "    for j, token in enumerate(sentence):\n",
        "        encoder_input_data[i, j, input_index[token]] = 1.\n",
        "    encoder_input_data[i, j+1:, input_index[' ']] = 1.\n",
        "for i, sentence in enumerate(target_morph_data):\n",
        "    for j, token in enumerate(sentence):\n",
        "        decoder_input_data[i, j, target_index[token]] = 1.\n",
        "        if j > 0:\n",
        "            decoder_target_data[i, j-1, target_index[token]] = 1.\n",
        "    decoder_input_data[i, j+1:, target_index[' ']] = 1.\n",
        "    decoder_target_data[i, j:, target_index[' ']] = 1.\n"
      ],
      "execution_count": 0,
      "outputs": []
    },
    {
      "cell_type": "code",
      "metadata": {
        "id": "KSOn4KAymFqh",
        "colab_type": "code",
        "colab": {
          "base_uri": "https://localhost:8080/",
          "height": 70
        },
        "outputId": "2399e3c7-a4e4-43c0-ac88-ce0ec9b27797"
      },
      "source": [
        "print(decoder_input_data.shape)\n",
        "print(encoder_input_data.shape)\n",
        "print(decoder_target_data.shape)"
      ],
      "execution_count": 13,
      "outputs": [
        {
          "output_type": "stream",
          "text": [
            "(466, 20, 716)\n",
            "(466, 28, 708)\n",
            "(466, 20, 716)\n"
          ],
          "name": "stdout"
        }
      ]
    },
    {
      "cell_type": "code",
      "metadata": {
        "id": "iAj3Y6JUmFqj",
        "colab_type": "code",
        "colab": {}
      },
      "source": [
        "# encoder = TimeDistributed(Dense(latent_dim, activation=\"relu\"))\n",
        "encoder_inputs = Input(shape=(None, num_encoder_tokens))\n",
        "encoder = LSTM(latent_dim,dropout=0.25, return_state=True)\n",
        "encoder_outputs, state_h, state_c = encoder(encoder_inputs)\n",
        "encoder_states = [state_h, state_c]\n"
      ],
      "execution_count": 0,
      "outputs": []
    },
    {
      "cell_type": "code",
      "metadata": {
        "id": "VJWbOS8umFqm",
        "colab_type": "code",
        "colab": {}
      },
      "source": [
        "decoder_inputs = Input(shape=(None, num_decoder_tokens))\n",
        "decoder_lstm = LSTM(latent_dim,dropout=0.25, return_sequences=True, return_state=True)\n",
        "decoder_outputs, _, _ = decoder_lstm(decoder_inputs, initial_state=encoder_states)\n",
        "decoder_dense = Dense(num_decoder_tokens, activation='softmax')\n",
        "decoder_outputs = decoder_dense(decoder_outputs)"
      ],
      "execution_count": 0,
      "outputs": []
    },
    {
      "cell_type": "code",
      "metadata": {
        "id": "teInzuIwmFqo",
        "colab_type": "code",
        "colab": {
          "base_uri": "https://localhost:8080/",
          "height": 1000
        },
        "outputId": "50404a3c-0339-4635-d581-fda8acc5d131"
      },
      "source": [
        "model = Model([encoder_inputs, decoder_inputs], decoder_outputs)\n",
        "model.compile(optimizer='rmsprop', loss='categorical_crossentropy',\n",
        "             metrics=['accuracy'])\n",
        "model.fit([encoder_input_data, decoder_input_data], decoder_target_data,\n",
        "         batch_size = batch_size, epochs=epochs, validation_split=0.2)\n",
        "model.save_weights('k_s2s.h5')"
      ],
      "execution_count": 32,
      "outputs": [
        {
          "output_type": "stream",
          "text": [
            "WARNING:tensorflow:From /usr/local/lib/python3.6/dist-packages/keras/optimizers.py:793: The name tf.train.Optimizer is deprecated. Please use tf.compat.v1.train.Optimizer instead.\n",
            "\n",
            "WARNING:tensorflow:From /usr/local/lib/python3.6/dist-packages/keras/backend/tensorflow_backend.py:3576: The name tf.log is deprecated. Please use tf.math.log instead.\n",
            "\n",
            "WARNING:tensorflow:From /usr/local/lib/python3.6/dist-packages/tensorflow_core/python/ops/math_grad.py:1424: where (from tensorflow.python.ops.array_ops) is deprecated and will be removed in a future version.\n",
            "Instructions for updating:\n",
            "Use tf.where in 2.0, which has the same broadcast rule as np.where\n",
            "WARNING:tensorflow:From /usr/local/lib/python3.6/dist-packages/keras/backend/tensorflow_backend.py:1033: The name tf.assign_add is deprecated. Please use tf.compat.v1.assign_add instead.\n",
            "\n",
            "WARNING:tensorflow:From /usr/local/lib/python3.6/dist-packages/keras/backend/tensorflow_backend.py:1020: The name tf.assign is deprecated. Please use tf.compat.v1.assign instead.\n",
            "\n",
            "WARNING:tensorflow:From /usr/local/lib/python3.6/dist-packages/keras/backend/tensorflow_backend.py:3005: The name tf.Session is deprecated. Please use tf.compat.v1.Session instead.\n",
            "\n",
            "Train on 372 samples, validate on 94 samples\n",
            "Epoch 1/100\n",
            "WARNING:tensorflow:From /usr/local/lib/python3.6/dist-packages/keras/backend/tensorflow_backend.py:190: The name tf.get_default_session is deprecated. Please use tf.compat.v1.get_default_session instead.\n",
            "\n",
            "WARNING:tensorflow:From /usr/local/lib/python3.6/dist-packages/keras/backend/tensorflow_backend.py:197: The name tf.ConfigProto is deprecated. Please use tf.compat.v1.ConfigProto instead.\n",
            "\n",
            "WARNING:tensorflow:From /usr/local/lib/python3.6/dist-packages/keras/backend/tensorflow_backend.py:207: The name tf.global_variables is deprecated. Please use tf.compat.v1.global_variables instead.\n",
            "\n",
            "WARNING:tensorflow:From /usr/local/lib/python3.6/dist-packages/keras/backend/tensorflow_backend.py:216: The name tf.is_variable_initialized is deprecated. Please use tf.compat.v1.is_variable_initialized instead.\n",
            "\n",
            "WARNING:tensorflow:From /usr/local/lib/python3.6/dist-packages/keras/backend/tensorflow_backend.py:223: The name tf.variables_initializer is deprecated. Please use tf.compat.v1.variables_initializer instead.\n",
            "\n",
            "372/372 [==============================] - 5s 14ms/step - loss: 1.5780 - acc: 0.8480 - val_loss: 2.6502 - val_acc: 0.6771\n",
            "Epoch 2/100\n",
            "372/372 [==============================] - 2s 6ms/step - loss: 0.8187 - acc: 0.8887 - val_loss: 2.6147 - val_acc: 0.6771\n",
            "Epoch 3/100\n",
            "372/372 [==============================] - 2s 6ms/step - loss: 0.7884 - acc: 0.8887 - val_loss: 2.9954 - val_acc: 0.6771\n",
            "Epoch 4/100\n",
            "372/372 [==============================] - 2s 6ms/step - loss: 0.7738 - acc: 0.8887 - val_loss: 2.6783 - val_acc: 0.6771\n",
            "Epoch 5/100\n",
            "372/372 [==============================] - 2s 6ms/step - loss: 0.7654 - acc: 0.8866 - val_loss: 3.2586 - val_acc: 0.6771\n",
            "Epoch 6/100\n",
            "372/372 [==============================] - 2s 6ms/step - loss: 0.7351 - acc: 0.8887 - val_loss: 2.7140 - val_acc: 0.6771\n",
            "Epoch 7/100\n",
            "372/372 [==============================] - 2s 6ms/step - loss: 0.7276 - acc: 0.8882 - val_loss: 2.8015 - val_acc: 0.6771\n",
            "Epoch 8/100\n",
            "372/372 [==============================] - 2s 6ms/step - loss: 0.7127 - acc: 0.8887 - val_loss: 3.3835 - val_acc: 0.6771\n",
            "Epoch 9/100\n",
            "372/372 [==============================] - 2s 6ms/step - loss: 0.6613 - acc: 0.8887 - val_loss: 3.3794 - val_acc: 0.6771\n",
            "Epoch 10/100\n",
            "372/372 [==============================] - 2s 6ms/step - loss: 0.6558 - acc: 0.8887 - val_loss: 3.0588 - val_acc: 0.6771\n",
            "Epoch 11/100\n",
            "372/372 [==============================] - 2s 6ms/step - loss: 0.6312 - acc: 0.8888 - val_loss: 3.3585 - val_acc: 0.6771\n",
            "Epoch 12/100\n",
            "372/372 [==============================] - 2s 6ms/step - loss: 0.6210 - acc: 0.8894 - val_loss: 2.9656 - val_acc: 0.6771\n",
            "Epoch 13/100\n",
            "372/372 [==============================] - 2s 6ms/step - loss: 0.6220 - acc: 0.8884 - val_loss: 3.0956 - val_acc: 0.6771\n",
            "Epoch 14/100\n",
            "372/372 [==============================] - 2s 6ms/step - loss: 0.6239 - acc: 0.8905 - val_loss: 2.8793 - val_acc: 0.6771\n",
            "Epoch 15/100\n",
            "372/372 [==============================] - 2s 6ms/step - loss: 0.5770 - acc: 0.8903 - val_loss: 2.8039 - val_acc: 0.6798\n",
            "Epoch 16/100\n",
            "372/372 [==============================] - 2s 6ms/step - loss: 0.5652 - acc: 0.8909 - val_loss: 3.3983 - val_acc: 0.6771\n",
            "Epoch 17/100\n",
            "372/372 [==============================] - 2s 6ms/step - loss: 0.5833 - acc: 0.8909 - val_loss: 3.0789 - val_acc: 0.6766\n",
            "Epoch 18/100\n",
            "372/372 [==============================] - 2s 6ms/step - loss: 0.5497 - acc: 0.8923 - val_loss: 3.2917 - val_acc: 0.6771\n",
            "Epoch 19/100\n",
            "372/372 [==============================] - 2s 6ms/step - loss: 0.5383 - acc: 0.8921 - val_loss: 3.2049 - val_acc: 0.6707\n",
            "Epoch 20/100\n",
            "372/372 [==============================] - 2s 6ms/step - loss: 0.5482 - acc: 0.8927 - val_loss: 3.1351 - val_acc: 0.6771\n",
            "Epoch 21/100\n",
            "372/372 [==============================] - 2s 6ms/step - loss: 0.5240 - acc: 0.8937 - val_loss: 2.8396 - val_acc: 0.6681\n",
            "Epoch 22/100\n",
            "372/372 [==============================] - 2s 6ms/step - loss: 0.5197 - acc: 0.8946 - val_loss: 3.5189 - val_acc: 0.6771\n",
            "Epoch 23/100\n",
            "372/372 [==============================] - 2s 6ms/step - loss: 0.5023 - acc: 0.8964 - val_loss: 2.8720 - val_acc: 0.6670\n",
            "Epoch 24/100\n",
            "372/372 [==============================] - 2s 6ms/step - loss: 0.5021 - acc: 0.8980 - val_loss: 3.1361 - val_acc: 0.6787\n",
            "Epoch 25/100\n",
            "372/372 [==============================] - 2s 6ms/step - loss: 0.4838 - acc: 0.8991 - val_loss: 2.8620 - val_acc: 0.6771\n",
            "Epoch 26/100\n",
            "372/372 [==============================] - 2s 6ms/step - loss: 0.4666 - acc: 0.9001 - val_loss: 3.1861 - val_acc: 0.6798\n",
            "Epoch 27/100\n",
            "372/372 [==============================] - 2s 6ms/step - loss: 0.4585 - acc: 0.9027 - val_loss: 3.1121 - val_acc: 0.6809\n",
            "Epoch 28/100\n",
            "372/372 [==============================] - 2s 6ms/step - loss: 0.4606 - acc: 0.9036 - val_loss: 3.0173 - val_acc: 0.6830\n",
            "Epoch 29/100\n",
            "372/372 [==============================] - 2s 6ms/step - loss: 0.4358 - acc: 0.9066 - val_loss: 3.0022 - val_acc: 0.6628\n",
            "Epoch 30/100\n",
            "372/372 [==============================] - 2s 6ms/step - loss: 0.4195 - acc: 0.9118 - val_loss: 3.6371 - val_acc: 0.6814\n",
            "Epoch 31/100\n",
            "372/372 [==============================] - 2s 6ms/step - loss: 0.4116 - acc: 0.9108 - val_loss: 3.4306 - val_acc: 0.6803\n",
            "Epoch 32/100\n",
            "372/372 [==============================] - 2s 6ms/step - loss: 0.4087 - acc: 0.9118 - val_loss: 3.0860 - val_acc: 0.6590\n",
            "Epoch 33/100\n",
            "372/372 [==============================] - 2s 6ms/step - loss: 0.3880 - acc: 0.9175 - val_loss: 3.0853 - val_acc: 0.6638\n",
            "Epoch 34/100\n",
            "372/372 [==============================] - 2s 6ms/step - loss: 0.3886 - acc: 0.9181 - val_loss: 3.1546 - val_acc: 0.6777\n",
            "Epoch 35/100\n",
            "372/372 [==============================] - 2s 6ms/step - loss: 0.3757 - acc: 0.9183 - val_loss: 3.1926 - val_acc: 0.6793\n",
            "Epoch 36/100\n",
            "372/372 [==============================] - 2s 6ms/step - loss: 0.3633 - acc: 0.9202 - val_loss: 3.2511 - val_acc: 0.6888\n",
            "Epoch 37/100\n",
            "372/372 [==============================] - 2s 6ms/step - loss: 0.3454 - acc: 0.9237 - val_loss: 2.8942 - val_acc: 0.6745\n",
            "Epoch 38/100\n",
            "372/372 [==============================] - 2s 6ms/step - loss: 0.3409 - acc: 0.9253 - val_loss: 3.4349 - val_acc: 0.6910\n",
            "Epoch 39/100\n",
            "372/372 [==============================] - 2s 6ms/step - loss: 0.3347 - acc: 0.9273 - val_loss: 3.2841 - val_acc: 0.6814\n",
            "Epoch 40/100\n",
            "372/372 [==============================] - 2s 6ms/step - loss: 0.3280 - acc: 0.9247 - val_loss: 3.1863 - val_acc: 0.6809\n",
            "Epoch 41/100\n",
            "372/372 [==============================] - 2s 6ms/step - loss: 0.3125 - acc: 0.9278 - val_loss: 3.1525 - val_acc: 0.6851\n",
            "Epoch 42/100\n",
            "372/372 [==============================] - 2s 6ms/step - loss: 0.3122 - acc: 0.9302 - val_loss: 3.3368 - val_acc: 0.6894\n",
            "Epoch 43/100\n",
            "372/372 [==============================] - 2s 6ms/step - loss: 0.2948 - acc: 0.9319 - val_loss: 3.3411 - val_acc: 0.6894\n",
            "Epoch 44/100\n",
            "372/372 [==============================] - 2s 6ms/step - loss: 0.2892 - acc: 0.9319 - val_loss: 3.2256 - val_acc: 0.6809\n",
            "Epoch 45/100\n",
            "372/372 [==============================] - 2s 6ms/step - loss: 0.2875 - acc: 0.9324 - val_loss: 3.3478 - val_acc: 0.6862\n",
            "Epoch 46/100\n",
            "372/372 [==============================] - 2s 6ms/step - loss: 0.2674 - acc: 0.9355 - val_loss: 3.4264 - val_acc: 0.6888\n",
            "Epoch 47/100\n",
            "372/372 [==============================] - 2s 6ms/step - loss: 0.2637 - acc: 0.9353 - val_loss: 3.1948 - val_acc: 0.6787\n",
            "Epoch 48/100\n",
            "372/372 [==============================] - 2s 6ms/step - loss: 0.2519 - acc: 0.9401 - val_loss: 3.2916 - val_acc: 0.6851\n",
            "Epoch 49/100\n",
            "372/372 [==============================] - 2s 6ms/step - loss: 0.2548 - acc: 0.9383 - val_loss: 3.3140 - val_acc: 0.6809\n",
            "Epoch 50/100\n",
            "372/372 [==============================] - 2s 6ms/step - loss: 0.2478 - acc: 0.9388 - val_loss: 3.4349 - val_acc: 0.6888\n",
            "Epoch 51/100\n",
            "372/372 [==============================] - 2s 6ms/step - loss: 0.2240 - acc: 0.9470 - val_loss: 3.1785 - val_acc: 0.6824\n",
            "Epoch 52/100\n",
            "372/372 [==============================] - 2s 6ms/step - loss: 0.2230 - acc: 0.9473 - val_loss: 3.7617 - val_acc: 0.6872\n",
            "Epoch 53/100\n",
            "372/372 [==============================] - 2s 6ms/step - loss: 0.2110 - acc: 0.9497 - val_loss: 3.3623 - val_acc: 0.6835\n",
            "Epoch 54/100\n",
            "372/372 [==============================] - 2s 6ms/step - loss: 0.2196 - acc: 0.9457 - val_loss: 3.6033 - val_acc: 0.6867\n",
            "Epoch 55/100\n",
            "372/372 [==============================] - 2s 6ms/step - loss: 0.2007 - acc: 0.9492 - val_loss: 3.2242 - val_acc: 0.6766\n",
            "Epoch 56/100\n",
            "372/372 [==============================] - 2s 6ms/step - loss: 0.2115 - acc: 0.9511 - val_loss: 3.2863 - val_acc: 0.6803\n",
            "Epoch 57/100\n",
            "372/372 [==============================] - 2s 6ms/step - loss: 0.1936 - acc: 0.9522 - val_loss: 3.5746 - val_acc: 0.6793\n",
            "Epoch 58/100\n",
            "372/372 [==============================] - 2s 6ms/step - loss: 0.1936 - acc: 0.9527 - val_loss: 3.2489 - val_acc: 0.6803\n",
            "Epoch 59/100\n",
            "372/372 [==============================] - 2s 6ms/step - loss: 0.2028 - acc: 0.9563 - val_loss: 3.2965 - val_acc: 0.6878\n",
            "Epoch 60/100\n",
            "372/372 [==============================] - 2s 6ms/step - loss: 0.1680 - acc: 0.9610 - val_loss: 3.3289 - val_acc: 0.6819\n",
            "Epoch 61/100\n",
            "372/372 [==============================] - 2s 6ms/step - loss: 0.1724 - acc: 0.9590 - val_loss: 3.6614 - val_acc: 0.6856\n",
            "Epoch 62/100\n",
            "372/372 [==============================] - 2s 6ms/step - loss: 0.1543 - acc: 0.9653 - val_loss: 3.5323 - val_acc: 0.6809\n",
            "Epoch 63/100\n",
            "372/372 [==============================] - 2s 6ms/step - loss: 0.1512 - acc: 0.9651 - val_loss: 3.5502 - val_acc: 0.6894\n",
            "Epoch 64/100\n",
            "372/372 [==============================] - 2s 6ms/step - loss: 0.1566 - acc: 0.9657 - val_loss: 3.5423 - val_acc: 0.6867\n",
            "Epoch 65/100\n",
            "372/372 [==============================] - 2s 6ms/step - loss: 0.1407 - acc: 0.9681 - val_loss: 3.3329 - val_acc: 0.6729\n",
            "Epoch 66/100\n",
            "372/372 [==============================] - 2s 6ms/step - loss: 0.1463 - acc: 0.9688 - val_loss: 3.3609 - val_acc: 0.6638\n",
            "Epoch 67/100\n",
            "372/372 [==============================] - 2s 6ms/step - loss: 0.1311 - acc: 0.9726 - val_loss: 3.4221 - val_acc: 0.6830\n",
            "Epoch 68/100\n",
            "372/372 [==============================] - 2s 6ms/step - loss: 0.1321 - acc: 0.9746 - val_loss: 3.4352 - val_acc: 0.6686\n",
            "Epoch 69/100\n",
            "372/372 [==============================] - 2s 6ms/step - loss: 0.1178 - acc: 0.9751 - val_loss: 3.4703 - val_acc: 0.6835\n",
            "Epoch 70/100\n",
            "372/372 [==============================] - 2s 6ms/step - loss: 0.1133 - acc: 0.9769 - val_loss: 3.4985 - val_acc: 0.6809\n",
            "Epoch 71/100\n",
            "372/372 [==============================] - 2s 6ms/step - loss: 0.1161 - acc: 0.9739 - val_loss: 3.4377 - val_acc: 0.6835\n",
            "Epoch 72/100\n",
            "372/372 [==============================] - 2s 6ms/step - loss: 0.1050 - acc: 0.9793 - val_loss: 3.4386 - val_acc: 0.6840\n",
            "Epoch 73/100\n",
            "372/372 [==============================] - 2s 6ms/step - loss: 0.1089 - acc: 0.9780 - val_loss: 3.7213 - val_acc: 0.6888\n",
            "Epoch 74/100\n",
            "372/372 [==============================] - 2s 6ms/step - loss: 0.1006 - acc: 0.9797 - val_loss: 3.4258 - val_acc: 0.6814\n",
            "Epoch 75/100\n",
            "372/372 [==============================] - 2s 6ms/step - loss: 0.0955 - acc: 0.9820 - val_loss: 3.6048 - val_acc: 0.6851\n",
            "Epoch 76/100\n",
            "372/372 [==============================] - 2s 6ms/step - loss: 0.0936 - acc: 0.9819 - val_loss: 3.4892 - val_acc: 0.6840\n",
            "Epoch 77/100\n",
            "372/372 [==============================] - 2s 6ms/step - loss: 0.1020 - acc: 0.9790 - val_loss: 3.4360 - val_acc: 0.6761\n",
            "Epoch 78/100\n",
            "372/372 [==============================] - 2s 6ms/step - loss: 0.0866 - acc: 0.9847 - val_loss: 3.5262 - val_acc: 0.6809\n",
            "Epoch 79/100\n",
            "372/372 [==============================] - 2s 6ms/step - loss: 0.0760 - acc: 0.9868 - val_loss: 3.5436 - val_acc: 0.6819\n",
            "Epoch 80/100\n",
            "372/372 [==============================] - 2s 6ms/step - loss: 0.0867 - acc: 0.9835 - val_loss: 3.7096 - val_acc: 0.6910\n",
            "Epoch 81/100\n",
            "372/372 [==============================] - 2s 6ms/step - loss: 0.0746 - acc: 0.9859 - val_loss: 3.5452 - val_acc: 0.6883\n",
            "Epoch 82/100\n",
            "372/372 [==============================] - 2s 6ms/step - loss: 0.0716 - acc: 0.9883 - val_loss: 3.5200 - val_acc: 0.6840\n",
            "Epoch 83/100\n",
            "372/372 [==============================] - 2s 6ms/step - loss: 0.0758 - acc: 0.9875 - val_loss: 3.6268 - val_acc: 0.6814\n",
            "Epoch 84/100\n",
            "372/372 [==============================] - 2s 6ms/step - loss: 0.0561 - acc: 0.9914 - val_loss: 3.7016 - val_acc: 0.6867\n",
            "Epoch 85/100\n",
            "372/372 [==============================] - 2s 6ms/step - loss: 0.0668 - acc: 0.9902 - val_loss: 3.5973 - val_acc: 0.6856\n",
            "Epoch 86/100\n",
            "372/372 [==============================] - 2s 6ms/step - loss: 0.0593 - acc: 0.9902 - val_loss: 3.4812 - val_acc: 0.6840\n",
            "Epoch 87/100\n",
            "372/372 [==============================] - 2s 6ms/step - loss: 0.0496 - acc: 0.9921 - val_loss: 3.6766 - val_acc: 0.6840\n",
            "Epoch 88/100\n",
            "372/372 [==============================] - 2s 6ms/step - loss: 0.0669 - acc: 0.9866 - val_loss: 3.5739 - val_acc: 0.6819\n",
            "Epoch 89/100\n",
            "372/372 [==============================] - 2s 6ms/step - loss: 0.0536 - acc: 0.9927 - val_loss: 3.9039 - val_acc: 0.6904\n",
            "Epoch 90/100\n",
            "372/372 [==============================] - 2s 6ms/step - loss: 0.0546 - acc: 0.9905 - val_loss: 3.5482 - val_acc: 0.6777\n",
            "Epoch 91/100\n",
            "372/372 [==============================] - 2s 6ms/step - loss: 0.0518 - acc: 0.9917 - val_loss: 3.4898 - val_acc: 0.6830\n",
            "Epoch 92/100\n",
            "372/372 [==============================] - 2s 6ms/step - loss: 0.0479 - acc: 0.9925 - val_loss: 3.4993 - val_acc: 0.6734\n",
            "Epoch 93/100\n",
            "372/372 [==============================] - 2s 6ms/step - loss: 0.0405 - acc: 0.9945 - val_loss: 3.5655 - val_acc: 0.6809\n",
            "Epoch 94/100\n",
            "372/372 [==============================] - 2s 6ms/step - loss: 0.0463 - acc: 0.9922 - val_loss: 3.6761 - val_acc: 0.6883\n",
            "Epoch 95/100\n",
            "372/372 [==============================] - 2s 6ms/step - loss: 0.0393 - acc: 0.9942 - val_loss: 3.5797 - val_acc: 0.6830\n",
            "Epoch 96/100\n",
            "372/372 [==============================] - 2s 6ms/step - loss: 0.0428 - acc: 0.9918 - val_loss: 3.7920 - val_acc: 0.6867\n",
            "Epoch 97/100\n",
            "372/372 [==============================] - 2s 6ms/step - loss: 0.0464 - acc: 0.9911 - val_loss: 3.6215 - val_acc: 0.6814\n",
            "Epoch 98/100\n",
            "372/372 [==============================] - 2s 6ms/step - loss: 0.0387 - acc: 0.9941 - val_loss: 3.7607 - val_acc: 0.6888\n",
            "Epoch 99/100\n",
            "372/372 [==============================] - 2s 6ms/step - loss: 0.0459 - acc: 0.9919 - val_loss: 3.5709 - val_acc: 0.6830\n",
            "Epoch 100/100\n",
            "372/372 [==============================] - 2s 6ms/step - loss: 0.0260 - acc: 0.9957 - val_loss: 3.6795 - val_acc: 0.6846\n"
          ],
          "name": "stdout"
        }
      ]
    },
    {
      "cell_type": "code",
      "metadata": {
        "id": "EBgUZMknmFqr",
        "colab_type": "code",
        "colab": {
          "base_uri": "https://localhost:8080/",
          "height": 513
        },
        "outputId": "737dbc02-3f15-4d1d-f60b-01b727faf03d"
      },
      "source": [
        " import matplotlib.pyplot as plt\n",
        "  # 손실 그래프\n",
        "plt.plot(model.history.history['loss'], 'y', label='train loss')\n",
        "plt.plot(model.history.history['val_loss'], 'r', label='val loss')\n",
        "plt.legend(loc='upper left')\n",
        "plt.show()\n",
        "\n",
        "# 정확도 그래프\n",
        "plt.plot(model.history.history['acc'], 'y', label='train acc')\n",
        "plt.plot(model.history.history['val_acc'], 'r', label='val acc')\n",
        "plt.legend(loc='upper left')\n",
        "plt.show()"
      ],
      "execution_count": 33,
      "outputs": [
        {
          "output_type": "display_data",
          "data": {
            "image/png": "[encoded data removed]",
            "text/plain": [
              "<Figure size 432x288 with 1 Axes>"
            ]
          },
          "metadata": {
            "tags": []
          }
        },
        {
          "output_type": "display_data",
          "data": {
            "image/png": "[encoded data removed]",
            "text/plain": [
              "<Figure size 432x288 with 1 Axes>"
            ]
          },
          "metadata": {
            "tags": []
          }
        }
      ]
    },
    {
      "cell_type": "code",
      "metadata": {
        "id": "PYgwSrfbmFqt",
        "colab_type": "code",
        "colab": {}
      },
      "source": [
        ""
      ],
      "execution_count": 0,
      "outputs": []
    }
  ]
}