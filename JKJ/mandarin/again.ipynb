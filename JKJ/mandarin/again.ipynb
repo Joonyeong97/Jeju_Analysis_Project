{
 "cells": [
  {
   "cell_type": "code",
   "execution_count": null,
   "metadata": {},
   "outputs": [],
   "source": [
    "import numpy as np\n",
    "import pandas as pd\n",
    "\n",
    "mandarine_consume = pd.read_excel('fresh_consume.xlsx', index_col='년도')\n",
    "mandarine_consume.describe()\n",
    "mandarine_consume.info()\n",
    "\n",
    "mandarine_consume.columns = ['per_p_man_con','per_p_fruit_con', 'per_p_imp_con','one_house',\n",
    "                            'import_ratio_f','import_ratio_p','man_whole_p','oran_whole_p',\n",
    "                            'apple_whole_p','pear_whole_p','strb_whole_p','persim_whole_p','banana_whole_p',\n",
    "                            'kiwi_whole_p', 'grap_whole_p','prod_index','consum_index',\n",
    "                            'per_p_income', 'import_ton_fruit', 'population']\n",
    "drop_cols = ['import_ton_fruit','population','consum_index','prod_index']\n",
    "mandarine_consume_df = mandarine_consume.drop(columns=drop_cols)\n",
    "mandarine_consume_df.import_ratio_p = mandarine_consume_df.import_ratio_p.fillna(method='ffill')\n",
    "mandarine_consume_df.import_ratio_f = mandarine_consume_df.import_ratio_f.fillna(method='ffill')\n",
    "mandarine_consume_df.import_ratio_p = mandarine_consume_df.import_ratio_p.fillna(0)\n",
    "mandarine_consume_df.import_ratio_f = mandarine_consume_df.import_ratio_f.fillna(0)\n",
    "\n",
    "mandarine_consume_df2 = mandarine_consume_df.dropna()\n",
    "mandarine_consume_df2"
   ]
  },
  {
   "cell_type": "code",
   "execution_count": 46,
   "metadata": {},
   "outputs": [
    {
     "data": {
      "text/plain": [
       "년도\n",
       "2000    11.9\n",
       "2001    12.6\n",
       "2002    13.3\n",
       "2003    13.0\n",
       "2004    12.0\n",
       "2005    13.1\n",
       "2006    12.7\n",
       "2007    16.0\n",
       "2008    13.0\n",
       "2009    15.2\n",
       "2010    12.4\n",
       "2011    13.6\n",
       "2012    13.7\n",
       "2013    13.4\n",
       "2014    14.2\n",
       "2015    12.5\n",
       "2016    11.9\n",
       "2017    11.6\n",
       "Name: per_p_man_con, dtype: float64"
      ]
     },
     "execution_count": 46,
     "metadata": {},
     "output_type": "execute_result"
    }
   ],
   "source": [
    "# 변수 선택\n",
    "# 1. 다중공선성\n",
    "y = mandarine_consume_df2.iloc[:,0]\n",
    "X = mandarine_consume_df2.iloc[:,1:]"
   ]
  },
  {
   "cell_type": "code",
   "execution_count": 31,
   "metadata": {},
   "outputs": [
    {
     "data": {
      "text/html": [
       "<div>\n",
       "<style scoped>\n",
       "    .dataframe tbody tr th:only-of-type {\n",
       "        vertical-align: middle;\n",
       "    }\n",
       "\n",
       "    .dataframe tbody tr th {\n",
       "        vertical-align: top;\n",
       "    }\n",
       "\n",
       "    .dataframe thead th {\n",
       "        text-align: right;\n",
       "    }\n",
       "</style>\n",
       "<table border=\"1\" class=\"dataframe\">\n",
       "  <thead>\n",
       "    <tr style=\"text-align: right;\">\n",
       "      <th></th>\n",
       "      <th>VIF Factor</th>\n",
       "      <th>features</th>\n",
       "    </tr>\n",
       "  </thead>\n",
       "  <tbody>\n",
       "    <tr>\n",
       "      <td>0</td>\n",
       "      <td>959.310004</td>\n",
       "      <td>per_p_fruit_con</td>\n",
       "    </tr>\n",
       "    <tr>\n",
       "      <td>1</td>\n",
       "      <td>4014.749646</td>\n",
       "      <td>per_p_imp_con</td>\n",
       "    </tr>\n",
       "    <tr>\n",
       "      <td>2</td>\n",
       "      <td>355.568480</td>\n",
       "      <td>one_house</td>\n",
       "    </tr>\n",
       "    <tr>\n",
       "      <td>3</td>\n",
       "      <td>1087.960682</td>\n",
       "      <td>import_ratio_f</td>\n",
       "    </tr>\n",
       "    <tr>\n",
       "      <td>4</td>\n",
       "      <td>672.546551</td>\n",
       "      <td>import_ratio_p</td>\n",
       "    </tr>\n",
       "    <tr>\n",
       "      <td>5</td>\n",
       "      <td>287.143147</td>\n",
       "      <td>man_whole_p</td>\n",
       "    </tr>\n",
       "    <tr>\n",
       "      <td>6</td>\n",
       "      <td>431.040092</td>\n",
       "      <td>oran_whole_p</td>\n",
       "    </tr>\n",
       "    <tr>\n",
       "      <td>7</td>\n",
       "      <td>355.716682</td>\n",
       "      <td>apple_whole_p</td>\n",
       "    </tr>\n",
       "    <tr>\n",
       "      <td>8</td>\n",
       "      <td>104.236253</td>\n",
       "      <td>pear_whole_p</td>\n",
       "    </tr>\n",
       "    <tr>\n",
       "      <td>9</td>\n",
       "      <td>887.654598</td>\n",
       "      <td>strb_whole_p</td>\n",
       "    </tr>\n",
       "    <tr>\n",
       "      <td>10</td>\n",
       "      <td>790.615536</td>\n",
       "      <td>persim_whole_p</td>\n",
       "    </tr>\n",
       "    <tr>\n",
       "      <td>11</td>\n",
       "      <td>498.739732</td>\n",
       "      <td>banana_whole_p</td>\n",
       "    </tr>\n",
       "    <tr>\n",
       "      <td>12</td>\n",
       "      <td>579.871551</td>\n",
       "      <td>kiwi_whole_p</td>\n",
       "    </tr>\n",
       "    <tr>\n",
       "      <td>13</td>\n",
       "      <td>400.828033</td>\n",
       "      <td>grap_whole_p</td>\n",
       "    </tr>\n",
       "    <tr>\n",
       "      <td>14</td>\n",
       "      <td>3585.245294</td>\n",
       "      <td>per_p_income</td>\n",
       "    </tr>\n",
       "  </tbody>\n",
       "</table>\n",
       "</div>"
      ],
      "text/plain": [
       "     VIF Factor         features\n",
       "0    959.310004  per_p_fruit_con\n",
       "1   4014.749646    per_p_imp_con\n",
       "2    355.568480        one_house\n",
       "3   1087.960682   import_ratio_f\n",
       "4    672.546551   import_ratio_p\n",
       "5    287.143147      man_whole_p\n",
       "6    431.040092     oran_whole_p\n",
       "7    355.716682    apple_whole_p\n",
       "8    104.236253     pear_whole_p\n",
       "9    887.654598     strb_whole_p\n",
       "10   790.615536   persim_whole_p\n",
       "11   498.739732   banana_whole_p\n",
       "12   579.871551     kiwi_whole_p\n",
       "13   400.828033     grap_whole_p\n",
       "14  3585.245294     per_p_income"
      ]
     },
     "execution_count": 31,
     "metadata": {},
     "output_type": "execute_result"
    }
   ],
   "source": [
    "# 2. VIF\n",
    "from statsmodels.stats.outliers_influence import variance_inflation_factor\n",
    "\n",
    "vif = pd.DataFrame()\n",
    "vif['VIF Factor'] = [variance_inflation_factor(X.values, i) for i in range(X.shape[1])]\n",
    "vif['features'] = X.columns\n",
    "vif"
   ]
  },
  {
   "cell_type": "code",
   "execution_count": 33,
   "metadata": {},
   "outputs": [
    {
     "data": {
      "text/plain": [
       "Index(['per_p_fruit_con', 'per_p_imp_con', 'one_house', 'import_ratio_f',\n",
       "       'import_ratio_p', 'man_whole_p', 'oran_whole_p'],\n",
       "      dtype='object')"
      ]
     },
     "execution_count": 33,
     "metadata": {},
     "output_type": "execute_result"
    }
   ],
   "source": [
    "# 3. feature selection (RFE)\n",
    "from sklearn.feature_selection import RFE\n",
    "from sklearn.svm import SVR\n",
    "\n",
    "estimator = SVR(kernel='linear')\n",
    "selector = RFE(estimator, step=1)\n",
    "selector = selector.fit(X, y)\n",
    "\n",
    "X.columns[selector.support_]\n",
    "X_RFE = X[X.columns[selector.support_]]\n",
    "# RFE로 변수 선택함!\n",
    "# 선택된 변수들\n",
    "X.columns[selector.support_]"
   ]
  },
  {
   "cell_type": "code",
   "execution_count": null,
   "metadata": {},
   "outputs": [],
   "source": [
    "# 다중공선성 시각화\n",
    "# version 1\n",
    "%matplotlib inline\n",
    "import matplotlib.pyplot as plt\n",
    "import seaborn as sns\n",
    "\n",
    "sns.set(style='whitegrid', context='notebook')\n",
    "sns.pairplot(X, height=2.5)\n",
    "plt.show()\n",
    "sns.reset_orig()\n",
    "\n",
    "# version 2\n",
    "plt.figure(figsize=(10,10))\n",
    "sns.heatmap(data=X.corr(), annot=True, square=True, fmt='.2f', linewidths=.5, cmap='Blues')"
   ]
  },
  {
   "cell_type": "code",
   "execution_count": 34,
   "metadata": {},
   "outputs": [],
   "source": [
    "X_RFE\n",
    "\n",
    "from sklearn.preprocessing import scale, robust_scale, minmax_scale, maxabs_scale, StandardScaler\n",
    "scale_X = scale(X_RFE)\n",
    "robust_X = robust_scale(X_RFE)\n",
    "minmax_X = minmax_scale(X_RFE)\n",
    "standard_X = StandardScaler().fit(X_RFE)"
   ]
  },
  {
   "cell_type": "code",
   "execution_count": 35,
   "metadata": {},
   "outputs": [
    {
     "name": "stdout",
     "output_type": "stream",
     "text": [
      "                                 OLS Regression Results                                \n",
      "=======================================================================================\n",
      "Dep. Variable:          per_p_man_con   R-squared (uncentered):                   0.930\n",
      "Model:                            OLS   Adj. R-squared (uncentered):              0.849\n",
      "Method:                 Least Squares   F-statistic:                              11.46\n",
      "Date:                Wed, 22 Jan 2020   Prob (F-statistic):                     0.00426\n",
      "Time:                        14:59:39   Log-Likelihood:                         -34.630\n",
      "No. Observations:                  13   AIC:                                      83.26\n",
      "Df Residuals:                       6   BIC:                                      87.21\n",
      "Df Model:                           7                                                  \n",
      "Covariance Type:            nonrobust                                                  \n",
      "==============================================================================\n",
      "                 coef    std err          t      P>|t|      [0.025      0.975]\n",
      "------------------------------------------------------------------------------\n",
      "x1             6.6944      6.766      0.989      0.361      -9.863      23.251\n",
      "x2             0.2081     25.906      0.008      0.994     -63.183      63.599\n",
      "x3             2.1278     11.972      0.178      0.865     -27.166      31.421\n",
      "x4             0.7655     24.279      0.032      0.976     -58.643      60.174\n",
      "x5           -13.2294     24.340     -0.544      0.606     -72.788      46.329\n",
      "x6            14.3261     11.384      1.258      0.255     -13.530      42.182\n",
      "x7             4.2863      9.313      0.460      0.662     -18.502      27.075\n",
      "==============================================================================\n",
      "Omnibus:                        3.955   Durbin-Watson:                   2.436\n",
      "Prob(Omnibus):                  0.138   Jarque-Bera (JB):                2.324\n",
      "Skew:                           1.034   Prob(JB):                        0.313\n",
      "Kurtosis:                       2.888   Cond. No.                         35.3\n",
      "==============================================================================\n",
      "\n",
      "Warnings:\n",
      "[1] Standard Errors assume that the covariance matrix of the errors is correctly specified.\n"
     ]
    },
    {
     "name": "stderr",
     "output_type": "stream",
     "text": [
      "C:\\Users\\ICT01_13\\Anaconda3\\lib\\site-packages\\scipy\\stats\\stats.py:1450: UserWarning: kurtosistest only valid for n>=20 ... continuing anyway, n=13\n",
      "  \"anyway, n=%i\" % int(n))\n"
     ]
    }
   ],
   "source": [
    "from sklearn.model_selection import train_test_split\n",
    "import statsmodels.api as sm\n",
    "\n",
    "X_train, X_test, y_train, y_test = train_test_split(minmax_X, y, random_state=3)\n",
    "result1 = sm.OLS(y_train, X_train).fit()\n",
    "print(result1.summary())"
   ]
  },
  {
   "cell_type": "code",
   "execution_count": 36,
   "metadata": {},
   "outputs": [
    {
     "name": "stdout",
     "output_type": "stream",
     "text": [
      "                                 OLS Regression Results                                \n",
      "=======================================================================================\n",
      "Dep. Variable:          per_p_man_con   R-squared (uncentered):                   0.914\n",
      "Model:                            OLS   Adj. R-squared (uncentered):              0.876\n",
      "Method:                 Least Squares   F-statistic:                              23.99\n",
      "Date:                Wed, 22 Jan 2020   Prob (F-statistic):                    8.09e-05\n",
      "Time:                        14:59:41   Log-Likelihood:                         -35.987\n",
      "No. Observations:                  13   AIC:                                      79.97\n",
      "Df Residuals:                       9   BIC:                                      82.23\n",
      "Df Model:                           4                                                  \n",
      "Covariance Type:            nonrobust                                                  \n",
      "==============================================================================\n",
      "                 coef    std err          t      P>|t|      [0.025      0.975]\n",
      "------------------------------------------------------------------------------\n",
      "x1             3.5999     19.726      0.183      0.859     -41.022      48.222\n",
      "x2           -18.9036     21.145     -0.894      0.395     -66.737      28.930\n",
      "x3            17.8995      5.386      3.323      0.009       5.715      30.084\n",
      "x4             9.9348      4.737      2.097      0.065      -0.782      20.652\n",
      "==============================================================================\n",
      "Omnibus:                        2.103   Durbin-Watson:                   2.031\n",
      "Prob(Omnibus):                  0.349   Jarque-Bera (JB):                1.298\n",
      "Skew:                           0.754   Prob(JB):                        0.523\n",
      "Kurtosis:                       2.648   Cond. No.                         23.4\n",
      "==============================================================================\n",
      "\n",
      "Warnings:\n",
      "[1] Standard Errors assume that the covariance matrix of the errors is correctly specified.\n"
     ]
    },
    {
     "name": "stderr",
     "output_type": "stream",
     "text": [
      "C:\\Users\\ICT01_13\\Anaconda3\\lib\\site-packages\\scipy\\stats\\stats.py:1450: UserWarning: kurtosistest only valid for n>=20 ... continuing anyway, n=13\n",
      "  \"anyway, n=%i\" % int(n))\n"
     ]
    }
   ],
   "source": [
    "X_RFE2 = X_RFE.drop(columns=['per_p_fruit_con','per_p_imp_con','one_house'])\n",
    "minmax_X2 = minmax_scale(X_RFE2)\n",
    "\n",
    "X_train, X_test, y_train, y_test = train_test_split(minmax_X2, y, random_state=3)\n",
    "result2 = sm.OLS(y_train, X_train).fit()\n",
    "print(result2.summary())"
   ]
  },
  {
   "cell_type": "code",
   "execution_count": 37,
   "metadata": {},
   "outputs": [
    {
     "name": "stdout",
     "output_type": "stream",
     "text": [
      "훈련 데이터 r2 score 0.6038647148656431\n",
      "테스트 데이터 r2 score -0.5642636900929876\n",
      "가중치:  [-1.43013228 -1.40617145 -1.42854015  2.84006351]\n",
      "절편:  12.903523754001597\n"
     ]
    }
   ],
   "source": [
    "# 단순선형회귀\n",
    "from sklearn.pipeline import Pipeline\n",
    "#from sklearn.model_selection import GridSearchCV\n",
    "from sklearn.linear_model import LinearRegression\n",
    "\n",
    "model = LinearRegression(fit_intercept=True)\n",
    "model = model.fit(X_train, y_train)\n",
    "y_bar = model.predict(X_train)\n",
    "y_pred = model.predict(X_test)\n",
    "y_pred - y_test\n",
    "\n",
    "from sklearn.metrics import r2_score\n",
    "print(\"훈련 데이터 r2 score\", r2_score(y_train, y_bar))\n",
    "print(\"테스트 데이터 r2 score\", r2_score(y_test, y_pred))\n",
    "print(\"가중치: \", model.coef_)\n",
    "print(\"절편: \", model.intercept_)"
   ]
  },
  {
   "cell_type": "code",
   "execution_count": 47,
   "metadata": {},
   "outputs": [
    {
     "name": "stdout",
     "output_type": "stream",
     "text": [
      "훈련 데이터 r2 score 1.0\n",
      "테스트 데이터 r2 score -21.02204219207821\n",
      "가중치:  [ 0.14768616  0.12535092  1.05689794  0.21957344 -1.13941744  0.09704595\n",
      "  1.42574357  0.19958879  1.41842752 -0.57253453 -0.92422387  0.67911597\n",
      " -0.59660244  1.46217074 -3.29686806]\n",
      "절편:  -0.002358337557026302\n"
     ]
    }
   ],
   "source": [
    "# 단순선형회귀 (다른 변수를 넣어보자...)\n",
    "y = mandarine_consume_df2.iloc[:,0]\n",
    "X = mandarine_consume_df2.iloc[:,1:]\n",
    "y = minmax_scale(y)\n",
    "X = minmax_scale(X)\n",
    "\n",
    "X_train, X_test, y_train, y_test = train_test_split(X, y, random_state=3)\n",
    "from sklearn.linear_model import LinearRegression\n",
    "\n",
    "model = LinearRegression(fit_intercept=True)\n",
    "model = model.fit(X_train, y_train)\n",
    "y_bar = model.predict(X_train)\n",
    "y_pred = model.predict(X_test)\n",
    "y_pred - y_test\n",
    "\n",
    "from sklearn.metrics import r2_score\n",
    "print(\"훈련 데이터 r2 score\", r2_score(y_train, y_bar))\n",
    "print(\"테스트 데이터 r2 score\", r2_score(y_test, y_pred))\n",
    "print(\"가중치: \", model.coef_)\n",
    "print(\"절편: \", model.intercept_)"
   ]
  },
  {
   "cell_type": "code",
   "execution_count": 53,
   "metadata": {},
   "outputs": [
    {
     "ename": "AttributeError",
     "evalue": "'PolynomialFeatures' object has no attribute 'predict'",
     "output_type": "error",
     "traceback": [
      "\u001b[1;31m---------------------------------------------------------------------------\u001b[0m",
      "\u001b[1;31mAttributeError\u001b[0m                            Traceback (most recent call last)",
      "\u001b[1;32m<ipython-input-53-ecb4c23239df>\u001b[0m in \u001b[0;36m<module>\u001b[1;34m\u001b[0m\n\u001b[0;32m     17\u001b[0m \u001b[0my2_hat\u001b[0m \u001b[1;33m=\u001b[0m \u001b[0mmodel2\u001b[0m\u001b[1;33m.\u001b[0m\u001b[0mfit_transform\u001b[0m\u001b[1;33m(\u001b[0m\u001b[0mX_train\u001b[0m\u001b[1;33m,\u001b[0m \u001b[0my_test\u001b[0m\u001b[1;33m)\u001b[0m\u001b[1;33m\u001b[0m\u001b[1;33m\u001b[0m\u001b[0m\n\u001b[0;32m     18\u001b[0m \u001b[0my1_pred\u001b[0m \u001b[1;33m=\u001b[0m \u001b[0mmodel1\u001b[0m\u001b[1;33m.\u001b[0m\u001b[0mpredict\u001b[0m\u001b[1;33m(\u001b[0m\u001b[0mX_test\u001b[0m\u001b[1;33m)\u001b[0m\u001b[1;33m\u001b[0m\u001b[1;33m\u001b[0m\u001b[0m\n\u001b[1;32m---> 19\u001b[1;33m \u001b[0my2_pred\u001b[0m \u001b[1;33m=\u001b[0m \u001b[0mmodel2\u001b[0m\u001b[1;33m.\u001b[0m\u001b[0mpredict\u001b[0m\u001b[1;33m(\u001b[0m\u001b[0mX_test\u001b[0m\u001b[1;33m)\u001b[0m\u001b[1;33m\u001b[0m\u001b[1;33m\u001b[0m\u001b[0m\n\u001b[0m",
      "\u001b[1;32m~\\Anaconda3\\lib\\site-packages\\sklearn\\utils\\metaestimators.py\u001b[0m in \u001b[0;36m__get__\u001b[1;34m(self, obj, type)\u001b[0m\n\u001b[0;32m    108\u001b[0m                     \u001b[1;32mcontinue\u001b[0m\u001b[1;33m\u001b[0m\u001b[1;33m\u001b[0m\u001b[0m\n\u001b[0;32m    109\u001b[0m                 \u001b[1;32melse\u001b[0m\u001b[1;33m:\u001b[0m\u001b[1;33m\u001b[0m\u001b[1;33m\u001b[0m\u001b[0m\n\u001b[1;32m--> 110\u001b[1;33m                     \u001b[0mgetattr\u001b[0m\u001b[1;33m(\u001b[0m\u001b[0mdelegate\u001b[0m\u001b[1;33m,\u001b[0m \u001b[0mself\u001b[0m\u001b[1;33m.\u001b[0m\u001b[0mattribute_name\u001b[0m\u001b[1;33m)\u001b[0m\u001b[1;33m\u001b[0m\u001b[1;33m\u001b[0m\u001b[0m\n\u001b[0m\u001b[0;32m    111\u001b[0m                     \u001b[1;32mbreak\u001b[0m\u001b[1;33m\u001b[0m\u001b[1;33m\u001b[0m\u001b[0m\n\u001b[0;32m    112\u001b[0m             \u001b[1;32melse\u001b[0m\u001b[1;33m:\u001b[0m\u001b[1;33m\u001b[0m\u001b[1;33m\u001b[0m\u001b[0m\n",
      "\u001b[1;31mAttributeError\u001b[0m: 'PolynomialFeatures' object has no attribute 'predict'"
     ]
    }
   ],
   "source": [
    "from sklearn.pipeline import Pipeline\n",
    "from sklearn.linear_model import LinearRegression, Ridge, Lasso, ElasticNet\n",
    "from sklearn.preprocessing import PolynomialFeatures\n",
    "from sklearn.preprocessing import StandardScaler, MinMaxScaler, RobustScaler \n",
    "from sklearn import linear_model\n",
    "\n",
    "y = mandarine_consume_df2.iloc[:,0]\n",
    "X = mandarine_consume_df2.iloc[:,1:]\n",
    "\n",
    "X_train, X_test, y_train, y_test = train_test_split(X, y, random_state=3)\n",
    "from sklearn.linear_model import LinearRegression\n",
    "\n",
    "model1 = Pipeline([('scaler', StandardScaler()),\n",
    "                  ('regressor', LinearRegression())])\n",
    "model2 = Pipeline([('scaler', StandardScaler()),\n",
    "                  ('poly', PolynomialFeatures(2))])\n",
    "y1_hat = model1.fit(X_train, y_train)\n",
    "y2_hat = model2.fit_transform(X_train, y_test)\n",
    "y1_pred = model1.predict(X_test)\n",
    "y2_pred = model2.predict(X_test)\n",
    "\n",
    "print(\"model1의 r2 score (훈련): \", r2_score(y_train, y1_hat))\n",
    "print(\"model1의 r2 score (테스트): \", r2_score(y_test, y1_pred))\n",
    "print(\"model2의 r2 score (훈련): \", r2_score(y_train, y2_hat))\n",
    "print(\"model2의 r2 score (테스트): \", r2_score(y_test, y2_pred))"
   ]
  },
  {
   "cell_type": "code",
   "execution_count": null,
   "metadata": {},
   "outputs": [],
   "source": [
    "from sklearn import linear_model\n",
    "\n",
    "poly = PolynomialFeatures(degree=3)\n",
    "\n",
    "X_train = poly.fit_transform(X_train)\n",
    "X_test = poly.fit_transform(X_test)\n",
    "\n",
    "model = linear_model.LinearRegression()\n",
    "model.fit(X_train, y_train)\n",
    "\n",
    "print(model.score(X_train, y_train))\n",
    "\n",
    "model.fit(X_test, y_test)\n",
    "print(model.score(X_test, y_test))"
   ]
  },
  {
   "cell_type": "code",
   "execution_count": null,
   "metadata": {},
   "outputs": [],
   "source": [
    "X"
   ]
  },
  {
   "cell_type": "code",
   "execution_count": null,
   "metadata": {},
   "outputs": [],
   "source": []
  },
  {
   "cell_type": "code",
   "execution_count": null,
   "metadata": {},
   "outputs": [],
   "source": []
  },
  {
   "cell_type": "code",
   "execution_count": null,
   "metadata": {},
   "outputs": [],
   "source": []
  },
  {
   "cell_type": "code",
   "execution_count": null,
   "metadata": {},
   "outputs": [],
   "source": []
  }
 ],
 "metadata": {
  "kernelspec": {
   "display_name": "Python 3",
   "language": "python",
   "name": "python3"
  },
  "language_info": {
   "codemirror_mode": {
    "name": "ipython",
    "version": 3
   },
   "file_extension": ".py",
   "mimetype": "text/x-python",
   "name": "python",
   "nbconvert_exporter": "python",
   "pygments_lexer": "ipython3",
   "version": "3.7.4"
  }
 },
 "nbformat": 4,
 "nbformat_minor": 2
}
